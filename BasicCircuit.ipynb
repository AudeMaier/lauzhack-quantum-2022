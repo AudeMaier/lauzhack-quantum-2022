{
 "cells": [
  {
   "cell_type": "markdown",
   "id": "b56d5ed1",
   "metadata": {},
   "source": [
    "# QCA Lauzhack participation\n",
    "\n",
    "### _Problem x_ : Basic Circuit"
   ]
  },
  {
   "cell_type": "code",
   "execution_count": 2,
   "id": "2dee1c3e",
   "metadata": {},
   "outputs": [],
   "source": [
    "from qiskit import QuantumCircuit\n",
    "from qiskit.quantum_info import Statevector\n",
    "from IPython.display import display, Math\n",
    "import numpy as np\n",
    "import matplotlib.pyplot as plt"
   ]
  },
  {
   "cell_type": "markdown",
   "id": "c1afdd03",
   "metadata": {},
   "source": [
    "The aim of this small problem is to familiarize with quantum circuits and qiskit library and to introduce some basics of quantum mechanics. The main goal here will be to find the decomposition of several gates in the universal quantum gates CNOT, H, S and T gates, and prove through little simulations that your decomposition is the right one."
   ]
  },
  {
   "cell_type": "markdown",
   "id": "1c3edd7d",
   "metadata": {},
   "source": [
    "In quantum computing, we manipulate qubits. These are 2-levels quantum systems, it can be a photon polarization, a spin, trapped ions,... The fact that the system is a quantum system allow few very important properties : superpostion, interference and entanglement. A qubit can be $|\\psi\\rangle=\\alpha|0\\rangle+\\beta|1\\rangle$, with $|\\alpha|^2+|\\beta|^2=1$. According to the law of QM, $|\\alpha|^2$ and $|\\beta|^2$ represent the probability that we measure $|0\\rangle$ or $|1\\rangle$. When we have multiple qubits, they will be in a state $|\\Psi\\rangle = |\\psi_1\\rangle \\otimes |\\psi_2\\rangle$ where $\\otimes$ is the tensor product. For the notation $|\\psi\\rangle$ it is called the bra-ket notation and is used everywhere in QM because it is very convenient. For simplicity, just see that $|\\rangle$, the ket is a column vector with the component of the state and $\\langle|$, the bra, is the transpose of the ket with complex conjugate taken on the components. We suggest you go check basic algebra with bra-ket notation. "
   ]
  },
  {
   "cell_type": "markdown",
   "id": "94e9cf17",
   "metadata": {},
   "source": [
    "In QM when we do a measurement, the state 'collapses' in the state it is measured. The outcome of the measurement can be represented by a projector. For example if I have a state $|\\psi\\rangle=\\alpha|0\\rangle+\\beta|1\\rangle$, I can measure either $|0\\rangle$ or $|1\\rangle$, this is represented by the set of projectors $\\{|0\\rangle\\langle0|,|1\\rangle\\langle1|\\}$, and the probability of each one is $P(i) = \\langle\\psi|P_i|\\psi\\rangle$, where $P_i$ is the corresponding projector."
   ]
  },
  {
   "cell_type": "markdown",
   "id": "2ab84e39",
   "metadata": {},
   "source": [
    "Now, let's get to quantum computing. Basically, we apply so-called quantum-gates to qubits, the same way we apply classical gates to classical bits. There are 4 universal gates called CNOT, H, S, T, which you can go check the definition by yourself. Every other gates can be derive from them. "
   ]
  },
  {
   "cell_type": "markdown",
   "id": "a68bfb71",
   "metadata": {},
   "source": [
    "Thus, what you have to do is to convert the following gates in the 4 universal gates, and show us it works using qiskit QuantumCircuit and simulation."
   ]
  },
  {
   "cell_type": "markdown",
   "id": "b6313b3a",
   "metadata": {},
   "source": [
    "So first, find the decomposition of X, Y, Z, SWAP. What we suggest maybe if you don't know how to start is to look at the matrix definitions of all these gate and try to see."
   ]
  },
  {
   "cell_type": "code",
   "execution_count": 3,
   "id": "e9f3e75d",
   "metadata": {},
   "outputs": [
    {
     "data": {
      "image/png": "[encoded data removed]",
      "text/plain": [
       "<Figure size 314.126x84.28 with 1 Axes>"
      ]
     },
     "execution_count": 3,
     "metadata": {},
     "output_type": "execute_result"
    }
   ],
   "source": [
    "c_X_ = QuantumCircuit(1)\n",
    "c_X_.x(0)\n",
    "\n",
    "c_X = QuantumCircuit(1)\n",
    "c_X.h(0)\n",
    "c_X.s(0)\n",
    "c_X.s(0)\n",
    "c_X.h(0)\n",
    "c_X.draw('mpl')"
   ]
  },
  {
   "cell_type": "code",
   "execution_count": 4,
   "id": "35a42e14",
   "metadata": {},
   "outputs": [
    {
     "name": "stderr",
     "output_type": "stream",
     "text": [
      "/tmp/ipykernel_13080/431818572.py:6: DeprecationWarning: The QuantumCircuit.__iadd__() method is being deprecated. Use the compose() (potentially with the inplace=True argument) and tensor() methods which are more flexible w.r.t circuit register compatibility.\n",
      "  c_i += c_X\n",
      "/tmp/ipykernel_13080/431818572.py:8: DeprecationWarning: The QuantumCircuit.__iadd__() method is being deprecated. Use the compose() (potentially with the inplace=True argument) and tensor() methods which are more flexible w.r.t circuit register compatibility.\n",
      "  c_i += c_X\n",
      "/tmp/ipykernel_13080/431818572.py:13: DeprecationWarning: The QuantumCircuit.__iadd__() method is being deprecated. Use the compose() (potentially with the inplace=True argument) and tensor() methods which are more flexible w.r.t circuit register compatibility.\n",
      "  c_Y += c_X\n",
      "/tmp/ipykernel_13080/431818572.py:14: DeprecationWarning: The QuantumCircuit.__iadd__() method is being deprecated. Use the compose() (potentially with the inplace=True argument) and tensor() methods which are more flexible w.r.t circuit register compatibility.\n",
      "  c_Y += c_i\n"
     ]
    },
    {
     "data": {
      "image/png": "[encoded data removed]",
      "text/plain": [
       "<Figure size 1036.53x84.28 with 1 Axes>"
      ]
     },
     "execution_count": 4,
     "metadata": {},
     "output_type": "execute_result"
    }
   ],
   "source": [
    "c_Y_ = QuantumCircuit(1)\n",
    "c_Y_.y(0)\n",
    "\n",
    "c_i = QuantumCircuit(1)\n",
    "c_i.s(0)\n",
    "c_i += c_X\n",
    "c_i.s(0)\n",
    "c_i += c_X\n",
    "\n",
    "c_Y = QuantumCircuit(1)\n",
    "c_Y.s(0)\n",
    "c_Y.s(0)\n",
    "c_Y += c_X\n",
    "c_Y += c_i\n",
    "\n",
    "c_Y.draw('mpl')"
   ]
  },
  {
   "cell_type": "code",
   "execution_count": 5,
   "id": "6c130204",
   "metadata": {},
   "outputs": [
    {
     "data": {
      "image/png": "[encoded data removed]",
      "text/plain": [
       "<Figure size 193.726x84.28 with 1 Axes>"
      ]
     },
     "execution_count": 5,
     "metadata": {},
     "output_type": "execute_result"
    }
   ],
   "source": [
    "c_Z_ = QuantumCircuit(1)\n",
    "c_Z_.z(0)\n",
    "\n",
    "c_Z = QuantumCircuit(1)\n",
    "c_Z.s(0)\n",
    "c_Z.s(0)\n",
    "c_Z.draw('mpl')"
   ]
  },
  {
   "cell_type": "code",
   "execution_count": 6,
   "id": "3ca6e3bb",
   "metadata": {},
   "outputs": [
    {
     "data": {
      "image/png": "[encoded data removed]",
      "text/plain": [
       "<Figure size 507.852x144.48 with 1 Axes>"
      ]
     },
     "execution_count": 6,
     "metadata": {},
     "output_type": "execute_result"
    }
   ],
   "source": [
    "c_SWAP_ = QuantumCircuit(2)\n",
    "c_SWAP_.swap(0,1)\n",
    "\n",
    "c_SWAP = QuantumCircuit(2)\n",
    "c_SWAP.h([0,1])\n",
    "c_SWAP.cx(0,1)\n",
    "c_SWAP.h([0,1])\n",
    "c_SWAP.cx(0,1)\n",
    "c_SWAP.h([0,1])\n",
    "c_SWAP.cx(0,1)\n",
    "c_SWAP.h([0,1])\n",
    "c_SWAP.draw('mpl')"
   ]
  },
  {
   "cell_type": "markdown",
   "id": "24a54de9",
   "metadata": {},
   "source": [
    "Now, use these circuits to compare the result you get with the gates given by qiskit. Use qiskit class Statevector, with its method evolve(). Always start with the zero state, this is what is done in qiskit."
   ]
  },
  {
   "cell_type": "markdown",
   "id": "baf7b368",
   "metadata": {},
   "source": [
    "X"
   ]
  },
  {
   "cell_type": "code",
   "execution_count": 7,
   "id": "99794100",
   "metadata": {},
   "outputs": [
    {
     "name": "stdout",
     "output_type": "stream",
     "text": [
      "My operator:\n"
     ]
    },
    {
     "data": {
      "text/latex": [
       "$\\displaystyle  |0\\rangle$"
      ],
      "text/plain": [
       "<IPython.core.display.Math object>"
      ]
     },
     "metadata": {},
     "output_type": "display_data"
    },
    {
     "name": "stdout",
     "output_type": "stream",
     "text": [
      "qiskit operator:\n"
     ]
    },
    {
     "data": {
      "text/latex": [
       "$\\displaystyle  |0\\rangle$"
      ],
      "text/plain": [
       "<IPython.core.display.Math object>"
      ]
     },
     "metadata": {},
     "output_type": "display_data"
    }
   ],
   "source": [
    "## your code here : compare your circuit outcomes with the ones of qiskit\n",
    "state = Statevector.from_int(1, 2)\n",
    "state_X = state.evolve(c_X)\n",
    "print(\"My operator:\")\n",
    "display(Math(state_X.draw('latex_source')))\n",
    "\n",
    "state_X_ = state.evolve(c_X_)\n",
    "print(\"qiskit operator:\")\n",
    "display(Math(state_X_.draw('latex_source')))"
   ]
  },
  {
   "cell_type": "code",
   "execution_count": 8,
   "id": "f5999d5f",
   "metadata": {},
   "outputs": [
    {
     "name": "stdout",
     "output_type": "stream",
     "text": [
      "My operator:\n"
     ]
    },
    {
     "data": {
      "text/latex": [
       "$\\displaystyle - i |0\\rangle$"
      ],
      "text/plain": [
       "<IPython.core.display.Math object>"
      ]
     },
     "metadata": {},
     "output_type": "display_data"
    },
    {
     "name": "stdout",
     "output_type": "stream",
     "text": [
      "qiskit operator:\n"
     ]
    },
    {
     "data": {
      "text/latex": [
       "$\\displaystyle - i |0\\rangle$"
      ],
      "text/plain": [
       "<IPython.core.display.Math object>"
      ]
     },
     "metadata": {},
     "output_type": "display_data"
    }
   ],
   "source": [
    "state = Statevector.from_int(1, 2)\n",
    "state_Y = state.evolve(c_Y)\n",
    "print(\"My operator:\")\n",
    "display(Math(state_Y.draw('latex_source')))\n",
    "\n",
    "state_Y_ = state.evolve(c_Y_)\n",
    "print(\"qiskit operator:\")\n",
    "display(Math(state_Y_.draw('latex_source')))"
   ]
  },
  {
   "cell_type": "code",
   "execution_count": 9,
   "id": "f7d4b266",
   "metadata": {},
   "outputs": [
    {
     "name": "stdout",
     "output_type": "stream",
     "text": [
      "My operator:\n"
     ]
    },
    {
     "data": {
      "text/latex": [
       "$\\displaystyle  |0\\rangle$"
      ],
      "text/plain": [
       "<IPython.core.display.Math object>"
      ]
     },
     "metadata": {},
     "output_type": "display_data"
    },
    {
     "name": "stdout",
     "output_type": "stream",
     "text": [
      "qiskit operator:\n"
     ]
    },
    {
     "data": {
      "text/latex": [
       "$\\displaystyle  |0\\rangle$"
      ],
      "text/plain": [
       "<IPython.core.display.Math object>"
      ]
     },
     "metadata": {},
     "output_type": "display_data"
    }
   ],
   "source": [
    "state = Statevector.from_int(0, 2)\n",
    "state_Z = state.evolve(c_Z)\n",
    "print(\"My operator:\")\n",
    "display(Math(state_Z.draw('latex_source')))\n",
    "\n",
    "state_Z_ = state.evolve(c_Z_)\n",
    "print(\"qiskit operator:\")\n",
    "display(Math(state_Z_.draw('latex_source')))"
   ]
  },
  {
   "cell_type": "code",
   "execution_count": 10,
   "id": "fdda3233",
   "metadata": {},
   "outputs": [
    {
     "name": "stdout",
     "output_type": "stream",
     "text": [
      "My operator:\n"
     ]
    },
    {
     "data": {
      "text/latex": [
       "$\\displaystyle  |11\\rangle$"
      ],
      "text/plain": [
       "<IPython.core.display.Math object>"
      ]
     },
     "metadata": {},
     "output_type": "display_data"
    },
    {
     "data": {
      "text/latex": [
       "$\\displaystyle  |11\\rangle$"
      ],
      "text/plain": [
       "<IPython.core.display.Math object>"
      ]
     },
     "metadata": {},
     "output_type": "display_data"
    }
   ],
   "source": [
    "state = Statevector.from_int(3, 2*2)\n",
    "state_SWAP = state.evolve(c_SWAP)\n",
    "print(\"My operator:\")\n",
    "display(Math(state_SWAP.draw('latex_source')))\n",
    "\n",
    "state_SWAP_ = state.evolve(c_SWAP_)\n",
    "display(Math(state_SWAP_.draw('latex_source')))"
   ]
  },
  {
   "cell_type": "code",
   "execution_count": null,
   "id": "f3d5a24b",
   "metadata": {},
   "outputs": [],
   "source": []
  }
 ],
 "metadata": {
  "kernelspec": {
   "display_name": "Python 3.9.7 ('base')",
   "language": "python",
   "name": "python3"
  },
  "language_info": {
   "codemirror_mode": {
    "name": "ipython",
    "version": 3
   },
   "file_extension": ".py",
   "mimetype": "text/x-python",
   "name": "python",
   "nbconvert_exporter": "python",
   "pygments_lexer": "ipython3",
   "version": "3.9.7"
  },
  "vscode": {
   "interpreter": {
    "hash": "2bc4ef9acb167b48ee60f9baadfe57024526bc96d32e36bfc4382600322ccc63"
   }
  }
 },
 "nbformat": 4,
 "nbformat_minor": 5
}
