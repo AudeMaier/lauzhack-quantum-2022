{
 "cells": [
  {
   "cell_type": "markdown",
   "metadata": {},
   "source": [
    "# Win an impossible classical challenge!\n",
    "$$\\newcommand{\\ket}[1]{\\left|{#1}\\right\\rangle}$$\n",
    "Imagine your team is faced with a challenger Eve that ask you to play and win the following game :\n",
    "\n",
    "- split your team into two groups, say A and B\n",
    "- Eve is independently going to give at each group an integer of value either 1,2 or 3. \n",
    "- group A, given value i, secretely gives to Eve three $\\pm1$ digits say $a_{i1},a_{i2},a_{i3}$ such that their product is $1$\n",
    "- group B, given value j, secretely gives to Eve three $\\pm1$ digits say $b_{1j},b_{2j},b_{3j}$ such that their product is $-1$\n",
    "- The game is won by the team if the two sequences of digits given by the two groups coincide at the \"matrix-element\" $ij$, that is if $a_{ij}=b_{ij}$\n",
    "\n",
    "For example, if Eve sends 1 to group A and 2 to group B, then group A could send $[a_{i1},a_{i2},a_{i3}]=[-1,-1,1]$\n",
    "and group B could send $b_{1j},b_{2j},b_{3j}=[-1,1,1]$. This would be a winning answer since :\n",
    "\n",
    "$$\n",
    "\\left\\{\n",
    "    \\begin{array}{lll}\n",
    "        a_{i2}=-1=b_{1j} \\\\\n",
    "        a_{i1}\\cdot a_{i2}\\cdot a_{i3}=1 \\\\\n",
    "        b_{1j} \\cdot b_{2j} \\cdot b_{3j}=-1\n",
    "    \\end{array}\n",
    "\\right.\n",
    "$$\n",
    "\n",
    "Before the game starts, both group can plan any strategy they want in order to maximise their chance to win the game, but when the game starts both teams get separated far from each other and cannot exchange information through any classical channel.\n",
    "\n",
    "The goal of this problem is to implement a strategy based on quantum phenomenons and more precisely the entanglement phenomenon that allows to win the game everytime, which would be impossible with a classical strategy.\n",
    "\n"
   ]
  },
  {
   "cell_type": "markdown",
   "metadata": {},
   "source": [
    "**Task 1 :** argue why the challenge is impossible to win with probability 1 using a classical strategy. That is, if group A and B decide to give their answer following a deterministic strategy materialised through a predetermined $3 \\times 3$-matrix $M$ of elements $\\pm1$ where at input $(i;j)$, A and B would answer row $i$ and column $j$ so to achieve $a_{ij}=b_{ij}$, then this procedure cannot garantee to give a product of 1 and -1 for row $i$ and colum $j$ at every input $(i,j)$ sent by Eve.\n",
    "\n",
    "Example of such a strategy :\n",
    "\n",
    "\\begin{bmatrix}\n",
    "1 & 1 & 1\\\\\n",
    "-1 & 1 & -1\\\\\n",
    "1 & -1 & -1\n",
    "\\end{bmatrix}\n",
    "\n",
    "What input from Eve would lead to an incorrect answer following this strategy ? \n",
    "\n",
    "We can see that using this strategy allows to win the game 8 out of 9 time and this is in fact the best frequence we can hope with a classical strategy. \n"
   ]
  },
  {
   "cell_type": "markdown",
   "metadata": {},
   "source": [
    "Your response here :"
   ]
  },
  {
   "cell_type": "markdown",
   "metadata": {},
   "source": [
    "2. Hopefully, the experience of Aspect in 1982 showed that we don't live in a classical world and the recent progress of quantum computing has now made possible to win this challenge with probability 1. In the following we will see how this is achieved.\n",
    "\n",
    "During the planning of the strategy, group A and B of your team prepare 4 qubits $A_1, A_2,B_1,B_2$ in a entangled state : \n",
    "\n",
    "$$|\\phi \\rangle_{AB}=\\frac{1}{\\sqrt{2}} \\ket{B_{00}}_{AB}\\otimes\\frac{1}{\\sqrt{2}} \\ket{B_{00}}_{AB}=\\frac{1}{\\sqrt{2}} (\\ket{00}_{A_1,B_1}+\\ket{11}_{A_1,B_1}) \\otimes \\frac{1}{\\sqrt{2}} (\\ket{00}_{A_2,B_2}+\\ket{11}_{A_2,B_2}) $$\n",
    "$$\\newcommand{\\ket}[1]{\\left|{#1}\\right\\rangle}$$\n",
    "and they agree on the following table $\\mathcal{Q}$:\n",
    "\n",
    "\\begin{array}{|l|c|r|}\n",
    "\\hline\n",
    "\\sigma_x \\otimes \\sigma_x & \\sigma_x \\otimes I & I \\otimes \\sigma_x \\\\ \\hline\n",
    "\\sigma_y \\otimes \\sigma_y & -\\sigma_x \\otimes \\sigma_z & -\\sigma_z \\otimes \\sigma_x\\\\ \\hline\n",
    "\\sigma_z \\otimes \\sigma_z & I \\otimes \\sigma_z &  \\sigma_z \\otimes I \\\\\n",
    "\\hline\n",
    "\\end{array}\n",
    "Where $\\sigma_x, \\sigma_y, \\sigma_z$ are the Pauli matrices :\n",
    "\n",
    "$$\n",
    "\\begin{bmatrix}\n",
    "0 & 1\\\\\n",
    "1 & 0\n",
    "\\end{bmatrix};\n",
    "\\begin{bmatrix}\n",
    "0 &-i\\\\\n",
    "i & 0\n",
    "\\end{bmatrix};\n",
    "\\begin{bmatrix}\n",
    "1 & 0\\\\\n",
    "0 & -1\n",
    "\\end{bmatrix}\n",
    "$$\n"
   ]
  },
  {
   "cell_type": "markdown",
   "metadata": {},
   "source": [
    "**Task 2 :** Importing standard Qiskit libraries, code and draw a quantum circuit preparing the desired state $|\\phi \\rangle_{AB}$"
   ]
  },
  {
   "cell_type": "code",
   "execution_count": 4,
   "metadata": {},
   "outputs": [],
   "source": [
    "#your code"
   ]
  },
  {
   "cell_type": "markdown",
   "metadata": {},
   "source": [
    "# The measurement postulate\n",
    "\n",
    "To proceed further, we explain the following aspect of the measurement postulate :\n",
    "\n",
    "1. an observable is a measurable quantity described by an hermitian matrix\n",
    "2. the measurement apparatus projects the state (or wave function) on one of the eigen-basis vector $\\ket{v}$\n",
    "3. the value of the observable is given by the eigen value associated with the eigen vector \n",
    "4. simultaneous measurements of many observables are only possible for commuting observables since they must have commun eigen basis\n",
    "5. the Born rule states that $\\mathcal{P}(\\ket{\\phi} \\rightarrow \\ket{v})= |\\langle v|\\phi \\rangle|^2$. If an eigen value is degenerate the probability of measuring this eigen value is the sum of these probabilities over corresponding eigenvectors.\n",
    "\n",
    "The **key observation** we can make on the table of observables $\\mathcal{Q}$ given above is :\n",
    "$$\\prod_k \\mathcal{Q}_{i,k} = I$$ and $$\\prod_k \\mathcal{Q}_{k,j} = -I$$\n",
    "\n",
    "I being the identity matrix. When measuring simultaneously the observable in a row or colum, the product of the eigen values for each observable will then be 1 or -1 respectively, and thus the challenge constraints will be achieved.\n",
    "\n"
   ]
  },
  {
   "cell_type": "markdown",
   "metadata": {
    "tags": []
   },
   "source": [
    "# List of the common basis\n",
    "\n",
    "Simultaneous measurements over different observables are possible only for commutative observables (otherwise what is the problem?). Hence, after checking that the observables in rows and columns indeed commute, we know that a common basis exists and we can make the measurements of those observables in such a basis. However, measurements on Qiskit are only made according to the usual basis, that is in the case of for 4 qubits : \n",
    "\n",
    "$$\\mathcal{B}= \\{\\ket{\\uparrow\\uparrow}, \\ket{\\uparrow\\downarrow}, \\ket{\\downarrow\\uparrow}, \\ket{\\downarrow\\downarrow} \\}$$\n",
    "\n",
    "Hence, we should find a way to convert the common basis for a row/colum into the usual basis so that the outcome of the measurements can be correctly deduced. We will see that it can be done directly by adding some quantum gates at the end of the circuit. \n",
    "\n",
    "We recall that hermitian matrix are diagonalisable and have real eigen value, that is among others what allows to interpret the square projection of an observable as a probability. A **common basis** for several hermitian matrices (or observables) is a set of vectors in which each hermitian matrices can be diagonalised.\n",
    "\n",
    "After some calculations, we can find the common basis for rows and colums. Here they are :  \n",
    "\n",
    "For group A :\n",
    "\n",
    "$$\\mathcal{B}^{A}_1= \\{\\ket{++}, \\ket{+-}, \\ket{-+}, \\ket{--} \\}$$\n",
    "\n",
    "$$\\mathcal{B}^{A}_2= \\{\\ket{\\uparrow\\uparrow}+\\ket{\\uparrow\\downarrow}+\\ket{\\downarrow\\uparrow}-\\ket{\\downarrow\\downarrow},\n",
    "\\ket{\\uparrow\\uparrow}-\\ket{\\uparrow\\downarrow}+\\ket{\\downarrow\\uparrow}+\\ket{\\downarrow\\downarrow},\n",
    "\\ket{\\uparrow\\uparrow}+\\ket{\\uparrow\\downarrow}-\\ket{\\downarrow\\uparrow}+\\ket{\\downarrow\\downarrow},\n",
    "\\ket{\\uparrow\\uparrow}-\\ket{\\uparrow\\downarrow}-\\ket{\\downarrow\\uparrow}-\\ket{\\downarrow\\downarrow} \\}$$\n",
    "\n",
    "$$\\mathcal{B}^{A}_3= \\{\\ket{\\uparrow\\uparrow}, \\ket{\\uparrow\\downarrow}, \\ket{\\downarrow\\uparrow}, \\ket{\\downarrow\\downarrow} \\}$$\n",
    "\n",
    "For group B :\n",
    "\n",
    "$$\\mathcal{B}^{B}_1= \\{\\ket{\\uparrow\\uparrow}+\\ket{\\downarrow\\downarrow},\\ket{\\uparrow\\downarrow}+\\ket{\\downarrow\\uparrow},\\ket{\\uparrow\\uparrow}-\\ket{\\downarrow\\downarrow},\\ket{\\uparrow\\downarrow}-\\ket{\\downarrow\\uparrow} \\}$$\n",
    "\n",
    "$$\\mathcal{B}^{B}_2= \\{\\ket{+}\\otimes \\ket{\\uparrow},  \\ket{+}\\otimes\\ket{\\downarrow},\\ket{-}\\otimes\\ket{\\uparrow},\n",
    "\\ket{-}\\otimes\\ket{\\downarrow} \\}$$\n",
    "\n",
    "\n",
    "$$\\mathcal{B}^{B}_3= \\{\\ket{\\uparrow\\uparrow}+\\ket{\\uparrow\\downarrow}, \\ket{\\uparrow\\uparrow}-\\ket{\\uparrow\\downarrow}, \\ket{\\downarrow\\uparrow}+\\ket{\\downarrow\\downarrow},\\ket{\\downarrow\\uparrow}-\\ket{\\downarrow\\downarrow} \\}$$\n",
    "\n",
    "\n",
    "\n"
   ]
  },
  {
   "cell_type": "markdown",
   "metadata": {},
   "source": [
    "**Task 3** : code and draw a 2 qubits circuit which, for a random state $\\psi = \\alpha \\ket{\\uparrow} + \\beta \\ket{\\downarrow}$ expressed in the usual basis $\\mathcal{B}$, express this state in terms of the basis $\\mathcal{B}^{B}_2$.\n",
    "\n",
    "*Hint: express the vector of $\\mathcal{B}^{B}_2$ in terms of the vectors of $\\mathcal{B}$ and the identity matrix I and the Hadamard matrix H.*"
   ]
  },
  {
   "cell_type": "code",
   "execution_count": 1,
   "metadata": {},
   "outputs": [],
   "source": [
    "#your code"
   ]
  },
  {
   "cell_type": "markdown",
   "metadata": {},
   "source": [
    "**The strategy**\n",
    "\n",
    "During the separation, group A takes to his laboratory the qubits $A_1$ and $A_2$, group B takes to his laboratory the qubits $B_1$ and $B_2$. \n",
    "\n",
    "Once the game starts on input $(i,j)$, group A performs the measurement of its two qubits according to the observables in row $i$ of the table $\\mathcal{Q}$, that is, projects the state $\\mathcal{Q}_{i,k}\\ket{A_1A_2}$ entangled with $B_1$ and $B_2$  onto the common basis $\\mathcal{B}_i^A$ and then look at the possible outcomes $\\ket{a_1a_2}_k$ of the projected states which will arise. Considering this state outcome, group A then outputs the corresponding eigenvalues $a_{ik}$ of the state by looking at the observables $\\mathcal{Q}_{i,k}$ diagonalised in $\\mathcal{B}_i^A$.\n",
    "\n",
    "Group B proceeds in a similar fashion with the observables on colums j. \n",
    "\n",
    "Using an simulator will produce valid state outcomes (that is, theoretically true) but in pratice on a real quantum machine there is a lot of noise and so we have to repeat the experiment several times to see the true outcomes emerging from the remaining possible outcomes."
   ]
  },
  {
   "cell_type": "markdown",
   "metadata": {},
   "source": [
    "# Implementation for special case (i,j)=(1,2)\n",
    "\n",
    "**Task 4 :** code a circuit which output the histogram of the measurement outcomes for a number of 1024 simulations, in the special case of (i,j)=(1,2).\n",
    "\n",
    "*Hint: you should apply the right changes of basis to the corresponding qubits of A and B.*\n"
   ]
  },
  {
   "cell_type": "code",
   "execution_count": 2,
   "metadata": {},
   "outputs": [],
   "source": [
    "# your code"
   ]
  },
  {
   "cell_type": "markdown",
   "metadata": {},
   "source": [
    "On qiskit the outcomes are read in reversed order compared to the order of the qubit appearing in the circuit (from $q[0]$ to $q[3]$). So from an outcome $b_2b_1a_2a_1$ of your choice, deduce a valid answer for group A and group B.\n",
    "\n",
    "*hint :* The observables can be calculated from $\\mathcal{Q}$ and then diagonalised according to the correct basis of group A and B.\n",
    "\n",
    "The diagonalised observables for $\\mathcal{B}^{A}_1$ are : \n",
    "\n",
    "$$\n",
    "Q_{1,1}=\n",
    "\\begin{pmatrix}\n",
    "1 & 0 & 0 & 0 \\\\\n",
    "0 & -1 & 0 & 0 \\\\\n",
    "0 & 0 & -1 & 0 \\\\\n",
    "0 & 0 & 0 & 1\n",
    "\\end{pmatrix}\n",
    "  ;  Q_{1,2}=\n",
    "\\begin{pmatrix}\n",
    "1 & 0 & 0 & 0 \\\\\n",
    "0 & 1 & 0 & 0 \\\\\n",
    "0 & 0 & -1 & 0 \\\\\n",
    "0 & 0 & 0 & -1\n",
    "\\end{pmatrix}\n",
    "  ;  Q_{1,3}=\n",
    "\\begin{pmatrix}\n",
    "1 & 0 & 0 & 0 \\\\\n",
    "0 & -1 & 0 & 0 \\\\\n",
    "0 & 0 & 1 & 0 \\\\\n",
    "0 & 0 & 0 & -1\n",
    "\\end{pmatrix}\n",
    "$$\n",
    "\n",
    "The diagolised observables for $\\mathcal{B}^{B}_2$ are : \n",
    "$$\n",
    "Q_{1,2}=\n",
    "\\begin{pmatrix}\n",
    "1 & 0 & 0 & 0 \\\\\n",
    "0 & 1 & 0 & 0 \\\\\n",
    "0 & 0 & -1 & 0 \\\\\n",
    "0 & 0 & 0 & -1\n",
    "\\end{pmatrix}\n",
    "  ;  Q_{2,2}=\n",
    "\\begin{pmatrix}\n",
    "-1 & 0 & 0 & 0 \\\\\n",
    "0 & 1 & 0 & 0 \\\\\n",
    "0 & 0 & 1 & 0 \\\\\n",
    "0 & 0 & 0 & -1\n",
    "\\end{pmatrix}\n",
    "  ;  Q_{3,2}=\n",
    "\\begin{pmatrix}\n",
    "1 & 0 & 0 & 0 \\\\\n",
    "0 & -1 & 0 & 0 \\\\  \n",
    "0 & 0 & 1 & 0 \\\\\n",
    "0 & 0 & 0 & -1\n",
    "\\end{pmatrix}\n",
    "$$\n",
    "\n"
   ]
  },
  {
   "cell_type": "markdown",
   "metadata": {},
   "source": [
    "Your response here : "
   ]
  },
  {
   "cell_type": "markdown",
   "metadata": {},
   "source": [
    "**Task 5 :** give a code which outputs the histogram of the measurement outcomes for a number of 1024 simulations, in the special, for all input (i,j) that Eve could ask : \n",
    "\n",
    "*hint : you can use disjonction cases inside the code of the circuit* "
   ]
  },
  {
   "cell_type": "code",
   "execution_count": 3,
   "metadata": {},
   "outputs": [],
   "source": [
    "# your code"
   ]
  }
 ],
 "metadata": {
  "kernelspec": {
   "display_name": "Python 3",
   "language": "python",
   "name": "python3"
  },
  "language_info": {
   "codemirror_mode": {
    "name": "ipython",
    "version": 3
   },
   "file_extension": ".py",
   "mimetype": "text/x-python",
   "name": "python",
   "nbconvert_exporter": "python",
   "pygments_lexer": "ipython3",
   "version": "3.8.3"
  },
  "widgets": {
   "application/vnd.jupyter.widget-state+json": {
    "state": {},
    "version_major": 2,
    "version_minor": 0
   }
  }
 },
 "nbformat": 4,
 "nbformat_minor": 5
}
