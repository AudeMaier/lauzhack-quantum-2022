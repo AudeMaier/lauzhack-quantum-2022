{
 "cells": [
  {
   "cell_type": "markdown",
   "id": "b25b4639-4c6c-4988-9edc-981324b27247",
   "metadata": {},
   "source": [
    "# Win an impossible classical challenge!\n",
    "$$\\newcommand{\\ket}[1]{\\left|{#1}\\right\\rangle}$$\n",
    "Imagine your team is faced with a challenger Eve that ask you to play and win the following game :\n",
    "\n",
    "- split your team into two groups, say A and B\n",
    "- Eve is independently going to give at each group an integer of value either 1,2 or 3. \n",
    "- group A, given value i, secretely gives to Eve three $\\pm1$ digits say $a_{i1},a_{i2},a_{i3}$ such that their product is $1$\n",
    "- group B, given value j, secretely gives to Eve three $\\pm1$ digits say $b_{1j},b_{2j},b_{3j}$ such that their product is $-1$\n",
    "- The game is won by the team if the two sequences of digits given by the two groups coincide at the \"matrix-element\" $ij$, that is if $a_{ij}=b_{ij}$\n",
    "\n",
    "For example, if Eve sends 1 to group A and 2 to group B, then group A could send $[a_{i1},a_{i2},a_{i3}]=[-1,-1,1]$\n",
    "and group B could send $b_{1j},b_{2j},b_{3j}=[-1,1,1]$. This would be a winning answer since :\n",
    "\n",
    "$$\n",
    "\\left\\{\n",
    "    \\begin{array}{lll}\n",
    "        a_{i2}=-1=b_{1j} \\\\\n",
    "        a_{i1}\\cdot a_{i2}\\cdot a_{i3}=1 \\\\\n",
    "        b_{1j} \\cdot b_{2j} \\cdot b_{3j}=-1\n",
    "    \\end{array}\n",
    "\\right.\n",
    "$$\n",
    "\n",
    "Before the game starts, both group can plan any strategy they want in order to maximise their chance to win the game, but when the game starts both teams get separated far from each other and cannot exchange information through any classical channel.\n",
    "\n",
    "The goal of this problem is to implement a strategy based on quantum phenomenons and more precisely the entanglement phenomenon that allows to win the game everytime, which would be impossible with a classical strategy.\n",
    "\n"
   ]
  },
  {
   "cell_type": "markdown",
   "id": "585c353a-b6e2-485d-afd5-65e3a3f683fc",
   "metadata": {},
   "source": [
    "**Task 1 :** argue why the challenge is impossible to win with probability 1 using a classical strategy. That is, if group A and B decide to give their answer following a deterministic strategy materialised through a predetermined $3 \\times 3$-matrix $M$ of elements $\\pm1$ where at input $(i;j)$, A and B would answer row $i$ and column $j$ so to achieve $a_{ij}=b_{ij}$, then this procedure cannot garantee to give a product of 1 and -1 for row $i$ and colum $j$ at every input $(i,j)$ sent by Eve.\n",
    "\n",
    "Example of such a strategy :\n",
    "\n",
    "\\begin{bmatrix}\n",
    "1 & 1 & 1\\\\\n",
    "-1 & 1 & -1\\\\\n",
    "1 & -1 & -1\n",
    "\\end{bmatrix}\n",
    "\n",
    "What input from Eve would lead to an incorrect answer following this strategy ? \n",
    "\n",
    "We can see that using this strategy allows to win the game 8 out of 9 time and this is in fact the best frequence we can hope with a classical strategy. \n"
   ]
  },
  {
   "cell_type": "markdown",
   "id": "56c95067-ad99-4954-921d-552b616a1a2f",
   "metadata": {},
   "source": [
    "Your response here :"
   ]
  },
  {
   "cell_type": "markdown",
   "id": "3353062b",
   "metadata": {},
   "source": [
    "ANSWER:\n",
    "\n",
    "Winning everytime requires each column of the matrix to have an odd number of \"-1\" and each row to have an even number of \"-1\".\n",
    "\n",
    "However, if each column has an odd number of \"-1\", it implies that the total number of \"-1\" in the martrix is odd. On the other hand, if each row has an even number of \"-1\" then the total number of \"-1\" must be even.\n",
    "\n",
    "This proves that the requirements to win everytime cannot be met at the same time and therefore it is impossible to win everytime."
   ]
  },
  {
   "cell_type": "markdown",
   "id": "0bbc52de-999e-4149-a386-452d3ee7c370",
   "metadata": {},
   "source": [
    "2. Hopefully, the experience of Aspect in 1982 showed that we don't live in a classical world and the recent progress of quantum computing has now made possible to win this challenge with probability 1. In the following we will see how this is achieved.\n",
    "\n",
    "During the planning of the strategy, group A and B of your team prepare 4 qubits $A_1, A_2,B_1,B_2$ in a entangled state : \n",
    "\n",
    "$$|\\phi \\rangle_{AB}=\\frac{1}{\\sqrt{2}} \\ket{B_{00}}_{AB}\\otimes\\frac{1}{\\sqrt{2}} \\ket{B_{00}}_{AB}=\\frac{1}{\\sqrt{2}} (\\ket{00}_{A_1,B_1}+\\ket{11}_{A_1,B_1}) \\otimes \\frac{1}{\\sqrt{2}} (\\ket{00}_{A_2,B_2}+\\ket{11}_{A_2,B_2}) $$\n",
    "$$\\newcommand{\\ket}[1]{\\left|{#1}\\right\\rangle}$$\n",
    "and they agree on the following table $\\mathcal{Q}$:\n",
    "\n",
    "\\begin{array}{|l|c|r|}\n",
    "\\hline\n",
    "\\sigma_x \\otimes \\sigma_x & \\sigma_x \\otimes I & I \\otimes \\sigma_x \\\\ \\hline\n",
    "\\sigma_y \\otimes \\sigma_y & -\\sigma_x \\otimes \\sigma_z & -\\sigma_z \\otimes \\sigma_x\\\\ \\hline\n",
    "\\sigma_z \\otimes \\sigma_z & I \\otimes \\sigma_z &  \\sigma_z \\otimes I \\\\\n",
    "\\hline\n",
    "\\end{array}\n",
    "Where $\\sigma_x, \\sigma_y, \\sigma_z$ are the Pauli matrices :\n",
    "\n",
    "$$\n",
    "\\begin{bmatrix}\n",
    "0 & 1\\\\\n",
    "1 & 0\n",
    "\\end{bmatrix};\n",
    "\\begin{bmatrix}\n",
    "0 &-i\\\\\n",
    "i & 0\n",
    "\\end{bmatrix};\n",
    "\\begin{bmatrix}\n",
    "1 & 0\\\\\n",
    "0 & -1\n",
    "\\end{bmatrix}\n",
    "$$\n"
   ]
  },
  {
   "cell_type": "markdown",
   "id": "1aec01d8-2e13-4820-9ddc-e0ca9cb07c30",
   "metadata": {},
   "source": [
    "**Task 2 :** Importing standard Qiskit libraries, code and draw a quantum circuit preparing the desired state $|\\phi \\rangle_{AB}$"
   ]
  },
  {
   "cell_type": "code",
   "execution_count": 65,
   "id": "83430d8e-1b21-4feb-a4fc-3ca403053917",
   "metadata": {},
   "outputs": [],
   "source": [
    "#your code\n",
    "from qiskit import QuantumCircuit\n",
    "from qiskit.quantum_info import Statevector\n",
    "import numpy as np\n",
    "from IPython.display import display, Math\n",
    "from qiskit.visualization import plot_histogram"
   ]
  },
  {
   "cell_type": "code",
   "execution_count": 63,
   "id": "0e966bd4",
   "metadata": {},
   "outputs": [
    {
     "data": {
      "image/png": "[encoded data removed]",
      "text/plain": [
       "<Figure size 327.397x325.08 with 1 Axes>"
      ]
     },
     "execution_count": 63,
     "metadata": {},
     "output_type": "execute_result"
    }
   ],
   "source": [
    "circuit_initial_state = QuantumCircuit(4,4)\n",
    "circuit_initial_state.h([0,1])\n",
    "circuit_initial_state.cx(1,3)\n",
    "circuit_initial_state.cx(0,2)\n",
    "circuit_initial_state.barrier()\n",
    "circuit_initial_state.draw('mpl')"
   ]
  },
  {
   "cell_type": "code",
   "execution_count": 47,
   "id": "7ab51967",
   "metadata": {},
   "outputs": [
    {
     "data": {
      "text/latex": [
       "$\\displaystyle  |0000\\rangle$"
      ],
      "text/plain": [
       "<IPython.core.display.Math object>"
      ]
     },
     "metadata": {},
     "output_type": "display_data"
    },
    {
     "data": {
      "text/latex": [
       "$\\displaystyle \\frac{1}{2} |0000\\rangle+\\frac{1}{2} |0101\\rangle+\\frac{1}{2} |1010\\rangle+\\frac{1}{2} |1111\\rangle$"
      ],
      "text/plain": [
       "<IPython.core.display.Math object>"
      ]
     },
     "metadata": {},
     "output_type": "display_data"
    }
   ],
   "source": [
    "state = Statevector.from_int(0, 2**4)\n",
    "display(Math(state.draw('latex_source')))\n",
    "state = state.evolve(circuit_initial_state)\n",
    "display(Math(state.draw('latex_source')))"
   ]
  },
  {
   "cell_type": "markdown",
   "id": "1c01b21d-22bb-488f-80e7-deeba2188c3f",
   "metadata": {},
   "source": [
    "# The measurement postulate\n",
    "\n",
    "To proceed further, we explain the following aspect of the measurement postulate :\n",
    "\n",
    "1. an observable is a measurable quantity described by an hermitian matrix\n",
    "2. the measurement apparatus projects the state (or wave function) on one of the eigen-basis vector $\\ket{v}$\n",
    "3. the value of the observable is given by the eigen value associated with the eigen vector \n",
    "4. simultaneous measurements of many observables are only possible for commuting observables since they must have commun eigen basis\n",
    "5. the Born rule states that $\\mathcal{P}(\\ket{\\phi} \\rightarrow \\ket{v})= |\\langle v|\\phi \\rangle|^2$. If an eigen value is degenerate the probability of measuring this eigen value is the sum of these probabilities over corresponding eigenvectors.\n",
    "\n",
    "The **key observation** we can make on the table of observables $\\mathcal{Q}$ given above is :\n",
    "$$\\prod_k \\mathcal{Q}_{i,k} = I$$\n",
    "and\n",
    "$$\\prod_k \\mathcal{Q}_{k,j} = -I$$\n",
    "\n",
    "$I$ being the identity matrix. When measuring simultaneously the observable in a row or colum, the product of the eigen values for each observable will then be 1 or -1 respectively, and thus the challenge constraints will be achieved.\n",
    "\n"
   ]
  },
  {
   "cell_type": "markdown",
   "id": "66730bdc-1cad-4622-bc2e-cfa08ca3be95",
   "metadata": {
    "tags": []
   },
   "source": [
    "# List of the common basis\n",
    "\n",
    "Simultaneous measurements over different observables are possible only for commutative observables (otherwise what is the problem?). Hence, after checking that the observables in rows and columns indeed commute, we know that a common basis exists and we can make the measurements of those observables in such a basis. However, measurements on Qiskit are only made according to the usual basis, that is in the case of for 4 qubits : \n",
    "\n",
    "$$\\mathcal{B}= \\{\\ket{\\uparrow\\uparrow}, \\ket{\\uparrow\\downarrow}, \\ket{\\downarrow\\uparrow}, \\ket{\\downarrow\\downarrow} \\}$$\n",
    "\n",
    "Hence, we should find a way to convert the common basis for a row/colum into the usual basis so that the outcome of the measurements can be correctly deduced. We will see that it can be done directly by adding some quantum gates at the end of the circuit. \n",
    "\n",
    "We recall that hermitian matrix are diagonalisable and have real eigen value, that is among others what allows to interpret the square projection of an observable as a probability. A **common basis** for several hermitian matrices (or observables) is a set of vectors in which each hermitian matrices can be diagonalised.\n",
    "\n",
    "After some calculations, we can find the common basis for rows and colums. Here they are :  \n",
    "\n",
    "For group A :\n",
    "\n",
    "$$\\mathcal{B}^{A}_1= \\{\\ket{++}, \\ket{+-}, \\ket{-+}, \\ket{--} \\}$$\n",
    "\n",
    "$$\\mathcal{B}^{A}_2= \\{\\ket{\\uparrow\\uparrow}+\\ket{\\uparrow\\downarrow}+\\ket{\\downarrow\\uparrow}-\\ket{\\downarrow\\downarrow},\n",
    "\\ket{\\uparrow\\uparrow}-\\ket{\\uparrow\\downarrow}+\\ket{\\downarrow\\uparrow}+\\ket{\\downarrow\\downarrow},\n",
    "\\ket{\\uparrow\\uparrow}+\\ket{\\uparrow\\downarrow}-\\ket{\\downarrow\\uparrow}+\\ket{\\downarrow\\downarrow},\n",
    "\\ket{\\uparrow\\uparrow}-\\ket{\\uparrow\\downarrow}-\\ket{\\downarrow\\uparrow}-\\ket{\\downarrow\\downarrow} \\}$$\n",
    "\n",
    "$$\\mathcal{B}^{A}_3= \\{\\ket{\\uparrow\\uparrow}, \\ket{\\uparrow\\downarrow}, \\ket{\\downarrow\\uparrow}, \\ket{\\downarrow\\downarrow} \\}$$\n",
    "\n",
    "For group B :\n",
    "\n",
    "$$\\mathcal{B}^{B}_1= \\{\\ket{\\uparrow\\uparrow}+\\ket{\\downarrow\\downarrow},\\ket{\\uparrow\\downarrow}+\\ket{\\downarrow\\uparrow},\\ket{\\uparrow\\uparrow}-\\ket{\\downarrow\\downarrow},\\ket{\\uparrow\\downarrow}-\\ket{\\downarrow\\uparrow} \\}$$\n",
    "\n",
    "$$\\mathcal{B}^{B}_2= \\{\\ket{+}\\otimes \\ket{\\uparrow},  \\ket{+}\\otimes\\ket{\\downarrow},\\ket{-}\\otimes\\ket{\\uparrow},\n",
    "\\ket{-}\\otimes\\ket{\\downarrow} \\}$$\n",
    "\n",
    "\n",
    "$$\\mathcal{B}^{B}_3= \\{\\ket{\\uparrow\\uparrow}+\\ket{\\uparrow\\downarrow}, \\ket{\\uparrow\\uparrow}-\\ket{\\uparrow\\downarrow}, \\ket{\\downarrow\\uparrow}+\\ket{\\downarrow\\downarrow},\\ket{\\downarrow\\uparrow}-\\ket{\\downarrow\\downarrow} \\}$$\n",
    "\n",
    "\n",
    "\n"
   ]
  },
  {
   "cell_type": "markdown",
   "id": "e0a98185-033b-4cf9-9248-2a04ada70cd7",
   "metadata": {},
   "source": [
    "**Task 3** : code and draw a 2 qubits circuit which, for a random state $\\psi = \\alpha \\ket{\\uparrow} + \\beta \\ket{\\downarrow}$ expressed in the usual basis $\\mathcal{B}$, express this state in terms of the basis $\\mathcal{B}^{B}_2$.\n",
    "\n",
    "*Hint: express the vector of $\\mathcal{B}^{B}_2$ in terms of the vectors of $\\mathcal{B}$ and the identity matrix $I$ and the Hadamard matrix $H$.*"
   ]
  },
  {
   "cell_type": "markdown",
   "id": "b04a830a",
   "metadata": {},
   "source": [
    "ANSWER:\n",
    "\n",
    "$$\\mathcal{B}^{B}_2=\\{\\ket{\\uparrow\\uparrow}+\\ket{\\downarrow\\uparrow},\n",
    "\\ket{\\uparrow\\downarrow}+\\ket{\\downarrow\\downarrow},\n",
    "\\ket{\\uparrow\\uparrow}-\\ket{\\downarrow\\uparrow},\n",
    "\\ket{\\uparrow\\downarrow}-\\ket{\\downarrow\\downarrow}\\}$$\n",
    "\n",
    "Hence:\n",
    "$$\\mathcal{B}^{B}_2 = (H\\otimes I) \\mathcal{B}$$"
   ]
  },
  {
   "cell_type": "code",
   "execution_count": 48,
   "id": "f24087ff-e999-4b23-aaeb-ea9422e2e8f0",
   "metadata": {},
   "outputs": [
    {
     "data": {
      "image/png": "[encoded data removed]",
      "text/plain": [
       "<Figure size 146.652x144.48 with 1 Axes>"
      ]
     },
     "execution_count": 48,
     "metadata": {},
     "output_type": "execute_result"
    }
   ],
   "source": [
    "#your code\n",
    "circuit_B_B_2 = QuantumCircuit(2)\n",
    "circuit_B_B_2.h(0)\n",
    "circuit_B_B_2.draw('mpl')"
   ]
  },
  {
   "cell_type": "markdown",
   "id": "1105d10e",
   "metadata": {},
   "source": [
    "Sanity check:"
   ]
  },
  {
   "cell_type": "code",
   "execution_count": 49,
   "id": "f49b87b5",
   "metadata": {},
   "outputs": [
    {
     "data": {
      "text/latex": [
       "$\\displaystyle  |10\\rangle+ |11\\rangle$"
      ],
      "text/plain": [
       "<IPython.core.display.Math object>"
      ]
     },
     "metadata": {},
     "output_type": "display_data"
    },
    {
     "data": {
      "text/latex": [
       "$\\displaystyle \\sqrt{2} |10\\rangle$"
      ],
      "text/plain": [
       "<IPython.core.display.Math object>"
      ]
     },
     "metadata": {},
     "output_type": "display_data"
    }
   ],
   "source": [
    "state = Statevector.from_int(2, 2**2) + Statevector.from_int(3, 2**2)\n",
    "display(Math(state.draw('latex_source')))\n",
    "state = state.evolve(circuit_B_B_2)\n",
    "display(Math(state.draw('latex_source')))"
   ]
  },
  {
   "cell_type": "markdown",
   "id": "0fa60960",
   "metadata": {},
   "source": [
    "We also express $\\mathcal{B}^{A}_1$:\n",
    "$$\\mathcal{B}^{A}_1 = (H\\otimes H) \\mathcal{B}$$\n",
    "\n",
    "We build the corresponding circuit:"
   ]
  },
  {
   "cell_type": "code",
   "execution_count": 50,
   "id": "3a691c6b",
   "metadata": {},
   "outputs": [
    {
     "data": {
      "image/png": "[encoded data removed]",
      "text/plain": [
       "<Figure size 146.652x144.48 with 1 Axes>"
      ]
     },
     "execution_count": 50,
     "metadata": {},
     "output_type": "execute_result"
    }
   ],
   "source": [
    "circuit_B_A_1 = QuantumCircuit(2)\n",
    "circuit_B_A_1.h([0,1])\n",
    "circuit_B_A_1.draw('mpl')"
   ]
  },
  {
   "cell_type": "markdown",
   "id": "d3179311-4d73-435f-95f6-e8139d9fe53e",
   "metadata": {},
   "source": [
    "**The strategy**\n",
    "\n",
    "During the separation, group A takes to his laboratory the qubits $A_1$ and $A_2$, group B takes to his laboratory the qubits $B_1$ and $B_2$. \n",
    "\n",
    "Once the game starts on input $(i,j)$, group A performs the measurement of its two qubits according to the observables in row $i$ of the table $\\mathcal{Q}$, that is, projects the state $\\mathcal{Q}_{i,k}\\ket{A_1A_2}$ entangled with $B_1$ and $B_2$  onto the common basis $\\mathcal{B}_i^A$ and then look at the possible outcomes $\\ket{a_1a_2}_k$ of the projected states which will arise. Considering this state outcome, group A then outputs the corresponding eigenvalues $a_{ik}$ of the state by looking at the observables $\\mathcal{Q}_{i,k}$ diagonalised in $\\mathcal{B}_i^A$.\n",
    "\n",
    "Group B proceeds in a similar fashion with the observables on colums j. \n",
    "\n",
    "Using an simulator will produce valid state outcomes (that is, theoretically true) but in pratice on a real quantum machine there is a lot of noise and so we have to repeat the experiment several times to see the true outcomes emerging from the remaining possible outcomes."
   ]
  },
  {
   "cell_type": "markdown",
   "id": "e02358c4-e9f4-4fdb-a230-c2fd48325006",
   "metadata": {},
   "source": [
    "# Implementation for special case (i,j)=(1,2)\n",
    "\n",
    "**Task 4 :** code a circuit which output the histogram of the measurement outcomes for a number of 1024 simulations, in the special case of (i,j)=(1,2).\n",
    "\n",
    "*Hint: you should apply the right changes of basis to the corresponding qubits of A and B.*\n"
   ]
  },
  {
   "cell_type": "code",
   "execution_count": 64,
   "id": "1fe0cb20",
   "metadata": {},
   "outputs": [
    {
     "data": {
      "image/png": "[encoded data removed]",
      "text/plain": [
       "<Figure size 688.597x325.08 with 1 Axes>"
      ]
     },
     "execution_count": 64,
     "metadata": {},
     "output_type": "execute_result"
    }
   ],
   "source": [
    "circuit = circuit_initial_state.copy()\n",
    "circuit.h([0,1])\n",
    "circuit.h(2)\n",
    "circuit.barrier()\n",
    "circuit.measure(0,0)\n",
    "circuit.measure(1,1)\n",
    "circuit.measure(2,2)\n",
    "circuit.measure(3,3)\n",
    "circuit.draw('mpl')"
   ]
  },
  {
   "cell_type": "code",
   "execution_count": 71,
   "id": "9b48e92f",
   "metadata": {},
   "outputs": [
    {
     "data": {
      "image/png": "[encoded data removed]",
      "text/plain": [
       "<Figure size 504x360 with 1 Axes>"
      ]
     },
     "execution_count": 71,
     "metadata": {},
     "output_type": "execute_result"
    }
   ],
   "source": [
    "backend = BasicAer.get_backend('qasm_simulator')\n",
    "result = backend.run(transpile(circuit, backend), shots=1024).result()\n",
    "counts  = result.get_counts(circuit)\n",
    "plot_histogram(counts)"
   ]
  },
  {
   "cell_type": "markdown",
   "id": "0d2a38ac-cda6-44f2-9c65-f0b9f79fa13c",
   "metadata": {},
   "source": [
    "**Answering to Eve given the measurement outcomes**\n",
    "\n",
    "On qiskit the outcomes are read in reversed order compared to the order of the qubit appearing in the circuit (from $q[0]$ to $q[3]$). So from an outcome $b_2b_1a_2a_1$ of your choice, deduce a valid answer for group A and group B.\n",
    "\n",
    "*hint :* The observables can be calculated from $\\mathcal{Q}$ and then diagonalised according to the correct basis of group A and B.\n",
    "\n",
    "The diagonalised observables for $\\mathcal{B}^{A}_1$ are : \n",
    "\n",
    "$$\n",
    "Q_{1,1}=\n",
    "\\begin{pmatrix}\n",
    "1 & 0 & 0 & 0 \\\\\n",
    "0 & -1 & 0 & 0 \\\\\n",
    "0 & 0 & -1 & 0 \\\\\n",
    "0 & 0 & 0 & 1\n",
    "\\end{pmatrix}\n",
    "  ;  Q_{1,2}=\n",
    "\\begin{pmatrix}\n",
    "1 & 0 & 0 & 0 \\\\\n",
    "0 & 1 & 0 & 0 \\\\\n",
    "0 & 0 & -1 & 0 \\\\\n",
    "0 & 0 & 0 & -1\n",
    "\\end{pmatrix}\n",
    "  ;  Q_{1,3}=\n",
    "\\begin{pmatrix}\n",
    "1 & 0 & 0 & 0 \\\\\n",
    "0 & -1 & 0 & 0 \\\\\n",
    "0 & 0 & 1 & 0 \\\\\n",
    "0 & 0 & 0 & -1\n",
    "\\end{pmatrix}\n",
    "$$\n",
    "\n",
    "The diagolised observables for $\\mathcal{B}^{B}_2$ are : \n",
    "$$\n",
    "Q_{1,2}=\n",
    "\\begin{pmatrix}\n",
    "1 & 0 & 0 & 0 \\\\\n",
    "0 & 1 & 0 & 0 \\\\\n",
    "0 & 0 & -1 & 0 \\\\\n",
    "0 & 0 & 0 & -1\n",
    "\\end{pmatrix}\n",
    "  ;  Q_{2,2}=\n",
    "\\begin{pmatrix}\n",
    "-1 & 0 & 0 & 0 \\\\\n",
    "0 & 1 & 0 & 0 \\\\\n",
    "0 & 0 & 1 & 0 \\\\\n",
    "0 & 0 & 0 & -1\n",
    "\\end{pmatrix}\n",
    "  ;  Q_{3,2}=\n",
    "\\begin{pmatrix}\n",
    "1 & 0 & 0 & 0 \\\\\n",
    "0 & -1 & 0 & 0 \\\\  \n",
    "0 & 0 & 1 & 0 \\\\\n",
    "0 & 0 & 0 & -1\n",
    "\\end{pmatrix}\n",
    "$$\n",
    "\n"
   ]
  },
  {
   "cell_type": "markdown",
   "id": "107bbf01-709c-4d15-a2a7-51c16ee0dc2d",
   "metadata": {},
   "source": [
    "Your response here : "
   ]
  },
  {
   "cell_type": "markdown",
   "id": "6b040efd",
   "metadata": {},
   "source": [
    "ANSWER:\n",
    "\n",
    "Let's take $b_2b_1a_2a_1 = 0111$, then the observables $Q_1,k$ diagonalized in $\\mathcal{B}^A_1$ outcome:\n",
    "$$a_{11}=1, a_{12}=-1, a_{13}=-1$$\n",
    "and the observables diagonalized in  $\\mathcal{B}^B_2$ outcome:\n",
    "$$b_{12}=-1, b_{22}=1, b_{32}=1$$\n",
    "\n",
    "Hence $a_{11}\\cdot a_{12} \\cdot a_{13} = 1$, $b_{12}\\cdot b_{22} \\cdot b_{32} = -1$ and $a_{12}=b_{12}=-1$"
   ]
  },
  {
   "cell_type": "markdown",
   "id": "6b343010-a273-460e-972a-5e79c6bcf54a",
   "metadata": {},
   "source": [
    "**Task 5 :** give a code which outputs the histogram of the measurement outcomes for a number of 1024 simulations, in the special, for all input (i,j) that Eve could ask : \n",
    "\n",
    "*hint : you can use disjonction cases inside the code of the circuit* "
   ]
  },
  {
   "cell_type": "code",
   "execution_count": 8,
   "id": "d9536aa7-2f21-49d5-9471-df9dcea4c8c6",
   "metadata": {},
   "outputs": [
    {
     "name": "stderr",
     "output_type": "stream",
     "text": [
      "ibmqfactory.load_account:WARNING:2022-11-29 20:24:40,844: Credentials are already in use. The existing account in the session will be replaced.\n"
     ]
    },
    {
     "name": "stdout",
     "output_type": "stream",
     "text": [
      "{'1101': 1098, '1010': 987, '0000': 1027, '0010': 979, '0111': 1038, '1111': 989, '0101': 1049, '1000': 1025}\n"
     ]
    },
    {
     "data": {
      "image/png": "[encoded data removed]",
      "text/plain": [
       "<Figure size 504x360 with 1 Axes>"
      ]
     },
     "execution_count": 8,
     "metadata": {},
     "output_type": "execute_result"
    }
   ],
   "source": [
    "# your code"
   ]
  },
  {
   "cell_type": "code",
   "execution_count": null,
   "id": "003e1a52-b97c-42c5-a43d-26491f50e788",
   "metadata": {},
   "outputs": [],
   "source": []
  },
  {
   "cell_type": "code",
   "execution_count": null,
   "id": "8ba776a9-49e0-4637-9e35-7c60556c1d1a",
   "metadata": {},
   "outputs": [],
   "source": []
  }
 ],
 "metadata": {
  "kernelspec": {
   "display_name": "Python 3.9.7 ('base')",
   "language": "python",
   "name": "python3"
  },
  "language_info": {
   "codemirror_mode": {
    "name": "ipython",
    "version": 3
   },
   "file_extension": ".py",
   "mimetype": "text/x-python",
   "name": "python",
   "nbconvert_exporter": "python",
   "pygments_lexer": "ipython3",
   "version": "3.9.7"
  },
  "vscode": {
   "interpreter": {
    "hash": "2bc4ef9acb167b48ee60f9baadfe57024526bc96d32e36bfc4382600322ccc63"
   }
  },
  "widgets": {
   "application/vnd.jupyter.widget-state+json": {
    "state": {},
    "version_major": 2,
    "version_minor": 0
   }
  }
 },
 "nbformat": 4,
 "nbformat_minor": 5
}
