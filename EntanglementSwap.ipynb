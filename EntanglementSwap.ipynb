{
 "cells": [
  {
   "cell_type": "markdown",
   "id": "3b2d29e1",
   "metadata": {},
   "source": [
    "# QCA Lauzhack participation\n",
    "\n",
    "### _Problem x_ : Entanglement swapping"
   ]
  },
  {
   "cell_type": "markdown",
   "id": "ff336fd9",
   "metadata": {},
   "source": [
    "The aim of this problem is to transfer entanglement to a set of qubits that were independant initially. In order to do so, you will use python library Qiskit. "
   ]
  },
  {
   "cell_type": "code",
   "execution_count": 23,
   "id": "cb9977db",
   "metadata": {},
   "outputs": [],
   "source": [
    "#these are all you need to solve the problem, but you can ofc import other stuff you would need\n",
    "from qiskit import QuantumCircuit\n",
    "from qiskit.quantum_info import Statevector\n",
    "import numpy as np\n",
    "from IPython.display import display, Math\n",
    "from qiskit.quantum_info.operators import Operator"
   ]
  },
  {
   "cell_type": "markdown",
   "id": "240eaa70",
   "metadata": {},
   "source": [
    "Consider 6 qubits named 1,2,3,4,5,6. These qubits are initially prepared in EPR pair (these are the maximally entangled 2-qubits states) such that the total initial state is given by $|\\Psi\\rangle = |\\Phi^-\\rangle_{1,2} \\otimes |\\Phi^-\\rangle_{3,4} \\otimes  |\\Phi^-\\rangle_{5,6}$, with $|\\Phi^-\\rangle = \\frac{|00\\rangle - |11\\rangle}{\\sqrt{2}}$. So first, using Qiskit, define a circuit which will produce this state."
   ]
  },
  {
   "cell_type": "code",
   "execution_count": 102,
   "id": "38021ead",
   "metadata": {},
   "outputs": [
    {
     "name": "stdout",
     "output_type": "stream",
     "text": [
      "|phi>:\n"
     ]
    },
    {
     "data": {
      "text/latex": [
       "$\\displaystyle \\frac{\\sqrt{2}}{2} |00\\rangle- \\frac{\\sqrt{2}}{2} |11\\rangle$"
      ],
      "text/plain": [
       "<IPython.core.display.Math object>"
      ]
     },
     "metadata": {},
     "output_type": "display_data"
    },
    {
     "name": "stdout",
     "output_type": "stream",
     "text": [
      "|psi>:\n"
     ]
    },
    {
     "data": {
      "text/latex": [
       "$\\displaystyle \\frac{\\sqrt{2}}{4} |000000\\rangle- \\frac{\\sqrt{2}}{4} |000011\\rangle- \\frac{\\sqrt{2}}{4} |001100\\rangle+\\frac{\\sqrt{2}}{4} |001111\\rangle- \\frac{\\sqrt{2}}{4} |110000\\rangle+\\frac{\\sqrt{2}}{4} |110011\\rangle+\\frac{\\sqrt{2}}{4} |111100\\rangle- \\frac{\\sqrt{2}}{4} |111111\\rangle$"
      ],
      "text/plain": [
       "<IPython.core.display.Math object>"
      ]
     },
     "metadata": {},
     "output_type": "display_data"
    }
   ],
   "source": [
    "## your code here : implement a circuit producing \\Psi\n",
    "state_00 = Statevector.from_int(0, 2**2)\n",
    "state_11 = Statevector.from_int(3, 2**2)\n",
    "phi = (state_00 - state_11) / np.sqrt(2)\n",
    "print(\"|phi>:\")\n",
    "display(Math(phi.draw('latex_source')))\n",
    "\n",
    "state = phi.tensor(phi.tensor(phi))\n",
    "print(\"|psi>:\")\n",
    "display(Math(state.draw('latex_source')))"
   ]
  },
  {
   "cell_type": "markdown",
   "id": "47afce60",
   "metadata": {},
   "source": [
    "Once you have this state, imagine that qubits 1,3,5 are in some place together (e.g on EPFL campus), and that qubits 2,4,6 are in some other places far away, let's say the moon. Now, a local measurement is done on qubits 1,3,5, which projects these on a GHZ state, given by $|GHZ\\rangle = \\frac{|000\\rangle + |111\\rangle}{\\sqrt{2}}$ (it is maximally entangled). "
   ]
  },
  {
   "cell_type": "markdown",
   "id": "765e9bec",
   "metadata": {},
   "source": [
    "Using Qiskit class Statevector, implement the code doing the local measurement on your state $|\\Psi\\rangle$. To do so, use the Statevector class of Qiskit and create the projector corresponding to the local measureament made on 1,3,5."
   ]
  },
  {
   "cell_type": "code",
   "execution_count": 103,
   "id": "3b08c5cd",
   "metadata": {},
   "outputs": [],
   "source": [
    "## your code here : implement the projector\n",
    "GHZ = (Statevector.from_int(0, 2**3) + Statevector.from_int(2**3-1, 2**3)) / np.sqrt(2)\n",
    "projector_local = GHZ.to_operator()\n",
    "projector = projector_local.tensor(Operator(np.eye(2 ** 3)))"
   ]
  },
  {
   "cell_type": "markdown",
   "id": "ef27d21f",
   "metadata": {},
   "source": [
    "Once it's done you can finally evolve your initial state $|\\Psi\\rangle$ with the projector, and obtain the final state."
   ]
  },
  {
   "cell_type": "code",
   "execution_count": 104,
   "id": "79f2cef4",
   "metadata": {},
   "outputs": [
    {
     "data": {
      "text/latex": [
       "$\\displaystyle \\frac{3 \\cdot 2^{\\frac{53}{82}} \\cdot 3^{\\frac{73}{82}} \\cdot 5^{\\frac{11}{41}} \\cdot 7^{\\frac{115}{164}}}{2 \\pi^{\\frac{192}{41}}} |000000\\rangle- \\frac{3 \\cdot 2^{\\frac{53}{82}} \\cdot 3^{\\frac{73}{82}} \\cdot 5^{\\frac{11}{41}} \\cdot 7^{\\frac{115}{164}}}{2 \\pi^{\\frac{192}{41}}} |010101\\rangle+\\frac{3 \\cdot 2^{\\frac{53}{82}} \\cdot 3^{\\frac{73}{82}} \\cdot 5^{\\frac{11}{41}} \\cdot 7^{\\frac{115}{164}}}{2 \\pi^{\\frac{192}{41}}} |101010\\rangle- \\frac{3 \\cdot 2^{\\frac{53}{82}} \\cdot 3^{\\frac{73}{82}} \\cdot 5^{\\frac{11}{41}} \\cdot 7^{\\frac{115}{164}}}{2 \\pi^{\\frac{192}{41}}} |111111\\rangle$"
      ],
      "text/plain": [
       "<IPython.core.display.Math object>"
      ]
     },
     "metadata": {},
     "output_type": "display_data"
    }
   ],
   "source": [
    "## your code here : do the total evolution to obtain final state\n",
    "state = phi.tensor(phi.tensor(phi))\n",
    "\n",
    "circuit = QuantumCircuit(6)\n",
    "circuit.swap(1,2)\n",
    "circuit.swap(3,4)\n",
    "circuit.swap(2,3)\n",
    "state = state.evolve(circuit)\n",
    "\n",
    "state = state.evolve(projector)\n",
    "\n",
    "circuit_inverse = QuantumCircuit(6)\n",
    "circuit_inverse.swap(2,3)\n",
    "circuit_inverse.swap(3,4)\n",
    "circuit_inverse.swap(1,2)\n",
    "state = state.evolve(circuit_inverse)\n",
    "\n",
    "display(Math(state.draw('latex_source')))"
   ]
  },
  {
   "cell_type": "markdown",
   "id": "5a46a8a4",
   "metadata": {},
   "source": [
    "What is the state of 2,4,6 now ? Can you see why is it called entanglement swapping ? Hint : you might need Statevector methods Statevector.evolve() and Statevector.to_operator()"
   ]
  },
  {
   "cell_type": "code",
   "execution_count": null,
   "id": "8bfa9a16",
   "metadata": {},
   "outputs": [],
   "source": []
  }
 ],
 "metadata": {
  "kernelspec": {
   "display_name": "Python 3.9.7 ('base')",
   "language": "python",
   "name": "python3"
  },
  "language_info": {
   "codemirror_mode": {
    "name": "ipython",
    "version": 3
   },
   "file_extension": ".py",
   "mimetype": "text/x-python",
   "name": "python",
   "nbconvert_exporter": "python",
   "pygments_lexer": "ipython3",
   "version": "3.9.7"
  },
  "vscode": {
   "interpreter": {
    "hash": "2bc4ef9acb167b48ee60f9baadfe57024526bc96d32e36bfc4382600322ccc63"
   }
  }
 },
 "nbformat": 4,
 "nbformat_minor": 5
}
