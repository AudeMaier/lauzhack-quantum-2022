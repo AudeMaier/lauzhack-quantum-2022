{
 "cells": [
  {
   "cell_type": "markdown",
   "id": "3b2d29e1",
   "metadata": {},
   "source": [
    "# QCA Lauzhack participation\n",
    "\n",
    "### _Problem x_ : Entanglement swapping"
   ]
  },
  {
   "cell_type": "markdown",
   "id": "ff336fd9",
   "metadata": {},
   "source": [
    "The aim of this problem is to transfer entanglement to a set of qubits that were independant initially. In order to do so, you will use python library Qiskit. "
   ]
  },
  {
   "cell_type": "code",
   "execution_count": 8,
   "id": "cb9977db",
   "metadata": {},
   "outputs": [],
   "source": [
    "#these are all you need to solve the problem, but you can ofc import other stuff you would need\n",
    "from qiskit import QuantumCircuit\n",
    "from qiskit.quantum_info import Statevector\n",
    "import numpy as np\n",
    "from IPython.display import display, Math"
   ]
  },
  {
   "cell_type": "markdown",
   "id": "240eaa70",
   "metadata": {},
   "source": [
    "Consider 6 qubits named 1,2,3,4,5,6. These qubits are initially prepared in EPR pair (these are the maximally entangled 2-qubits states) such that the total initial state is given by $|\\Psi\\rangle = |\\Phi^-\\rangle_{1,2} \\otimes |\\Phi^-\\rangle_{3,4} \\otimes  |\\Phi^-\\rangle_{5,6}$, with $|\\Phi^-\\rangle = \\frac{|00\\rangle - |11\\rangle}{\\sqrt{2}}$. So first, using Qiskit, define a circuit which will produce this state."
   ]
  },
  {
   "cell_type": "code",
   "execution_count": 9,
   "id": "38021ead",
   "metadata": {},
   "outputs": [
    {
     "data": {
      "text/latex": [
       "$\\displaystyle \\frac{\\sqrt{2}}{2} |00\\rangle- \\frac{\\sqrt{2}}{2} |11\\rangle$"
      ],
      "text/plain": [
       "<IPython.core.display.Math object>"
      ]
     },
     "metadata": {},
     "output_type": "display_data"
    },
    {
     "data": {
      "text/latex": [
       "$\\displaystyle \\frac{\\sqrt{2}}{4} |000000\\rangle- \\frac{\\sqrt{2}}{4} |000011\\rangle- \\frac{\\sqrt{2}}{4} |001100\\rangle+\\frac{\\sqrt{2}}{4} |001111\\rangle- \\frac{\\sqrt{2}}{4} |110000\\rangle+\\frac{\\sqrt{2}}{4} |110011\\rangle+\\frac{\\sqrt{2}}{4} |111100\\rangle- \\frac{\\sqrt{2}}{4} |111111\\rangle$"
      ],
      "text/plain": [
       "<IPython.core.display.Math object>"
      ]
     },
     "metadata": {},
     "output_type": "display_data"
    }
   ],
   "source": [
    "## your code here : implement a circuit producing \\Psi\n",
    "state_00 = Statevector.from_int(0, 2*2)\n",
    "state_11 = Statevector.from_int(3, 2*2)\n",
    "psi = (state_00 - state_11) / np.sqrt(2)\n",
    "display(Math(psi.draw('latex_source')))\n",
    "\n",
    "state = psi.tensor(psi.tensor(psi))\n",
    "display(Math(state.draw('latex_source')))"
   ]
  },
  {
   "cell_type": "markdown",
   "id": "47afce60",
   "metadata": {},
   "source": [
    "Once you have this state, imagine that qubits 1,3,5 are in some place together (e.g on EPFL campus), and that qubits 2,4,6 are in some other places far away, let's say the moon. Now, a local measurement is done on qubits 1,3,5, which projects these on a GHZ state, given by $|GHZ\\rangle = \\frac{|000\\rangle + |111\\rangle}{\\sqrt{2}}$ (it is maximally entangled). "
   ]
  },
  {
   "cell_type": "markdown",
   "id": "765e9bec",
   "metadata": {},
   "source": [
    "Using Qiskit class Statevector, implement the code doing the local measurement on your state $|\\Psi\\rangle$. To do so, use the Statevector class of Qiskit and create the projector corresponding to the local measureament made on 1,3,5."
   ]
  },
  {
   "cell_type": "code",
   "execution_count": 17,
   "id": "3b08c5cd",
   "metadata": {},
   "outputs": [
    {
     "name": "stdout",
     "output_type": "stream",
     "text": [
      "Operator([[0.5+0.j, 0. +0.j, 0. +0.j, 0. +0.j, 0. +0.j, 0.5+0.j],\n",
      "          [0. +0.j, 0. +0.j, 0. +0.j, 0. +0.j, 0. +0.j, 0. +0.j],\n",
      "          [0. +0.j, 0. +0.j, 0. +0.j, 0. +0.j, 0. +0.j, 0. +0.j],\n",
      "          [0. +0.j, 0. +0.j, 0. +0.j, 0. +0.j, 0. +0.j, 0. +0.j],\n",
      "          [0. +0.j, 0. +0.j, 0. +0.j, 0. +0.j, 0. +0.j, 0. +0.j],\n",
      "          [0.5+0.j, 0. +0.j, 0. +0.j, 0. +0.j, 0. +0.j, 0.5+0.j]],\n",
      "         input_dims=(6,), output_dims=(6,))\n"
     ]
    },
    {
     "ename": "QiskitError",
     "evalue": "'qargs does not match the number of operator qargs (3 not in (1, 1))'",
     "output_type": "error",
     "traceback": [
      "\u001b[0;31m---------------------------------------------------------------------------\u001b[0m",
      "\u001b[0;31mQiskitError\u001b[0m                               Traceback (most recent call last)",
      "\u001b[0;32m/tmp/ipykernel_12906/2231150186.py\u001b[0m in \u001b[0;36m<module>\u001b[0;34m\u001b[0m\n\u001b[1;32m      4\u001b[0m \u001b[0mprint\u001b[0m\u001b[0;34m(\u001b[0m\u001b[0mprojector\u001b[0m\u001b[0;34m)\u001b[0m\u001b[0;34m\u001b[0m\u001b[0;34m\u001b[0m\u001b[0m\n\u001b[1;32m      5\u001b[0m \u001b[0mcircuit\u001b[0m \u001b[0;34m=\u001b[0m \u001b[0mQuantumCircuit\u001b[0m\u001b[0;34m(\u001b[0m\u001b[0;36m3\u001b[0m\u001b[0;34m)\u001b[0m\u001b[0;34m\u001b[0m\u001b[0;34m\u001b[0m\u001b[0m\n\u001b[0;32m----> 6\u001b[0;31m \u001b[0mcircuit\u001b[0m \u001b[0;34m+=\u001b[0m \u001b[0mprojector\u001b[0m\u001b[0;34m(\u001b[0m\u001b[0;34m[\u001b[0m\u001b[0;36m0\u001b[0m\u001b[0;34m,\u001b[0m\u001b[0;36m2\u001b[0m\u001b[0;34m,\u001b[0m\u001b[0;36m4\u001b[0m\u001b[0;34m]\u001b[0m\u001b[0;34m)\u001b[0m\u001b[0;34m\u001b[0m\u001b[0;34m\u001b[0m\u001b[0m\n\u001b[0m",
      "\u001b[0;32m~/anaconda3/lib/python3.9/site-packages/qiskit/quantum_info/operators/base_operator.py\u001b[0m in \u001b[0;36m__call__\u001b[0;34m(self, *qargs)\u001b[0m\n\u001b[1;32m     62\u001b[0m         \u001b[0mn_qargs\u001b[0m \u001b[0;34m=\u001b[0m \u001b[0mlen\u001b[0m\u001b[0;34m(\u001b[0m\u001b[0mqargs\u001b[0m\u001b[0;34m)\u001b[0m\u001b[0;34m\u001b[0m\u001b[0;34m\u001b[0m\u001b[0m\n\u001b[1;32m     63\u001b[0m         \u001b[0;32mif\u001b[0m \u001b[0mn_qargs\u001b[0m \u001b[0;32mnot\u001b[0m \u001b[0;32min\u001b[0m \u001b[0mself\u001b[0m\u001b[0;34m.\u001b[0m\u001b[0m_op_shape\u001b[0m\u001b[0;34m.\u001b[0m\u001b[0mnum_qargs\u001b[0m\u001b[0;34m:\u001b[0m\u001b[0;34m\u001b[0m\u001b[0;34m\u001b[0m\u001b[0m\n\u001b[0;32m---> 64\u001b[0;31m             raise QiskitError(\n\u001b[0m\u001b[1;32m     65\u001b[0m                 \u001b[0;34m\"qargs does not match the number of operator qargs \"\u001b[0m\u001b[0;34m\u001b[0m\u001b[0;34m\u001b[0m\u001b[0m\n\u001b[1;32m     66\u001b[0m                 \u001b[0;34mf\"({n_qargs} not in {self._op_shape.num_qargs})\"\u001b[0m\u001b[0;34m\u001b[0m\u001b[0;34m\u001b[0m\u001b[0m\n",
      "\u001b[0;31mQiskitError\u001b[0m: 'qargs does not match the number of operator qargs (3 not in (1, 1))'"
     ]
    }
   ],
   "source": [
    "## your code here : implement the projector\n",
    "GHZ = (Statevector.from_int(0, 3*2) + Statevector.from_int(2*3-1, 3*2)) / np.sqrt(2)\n",
    "projector = GHZ.to_operator()\n",
    "print(projector)\n",
    "circuit = QuantumCircuit(3)\n",
    "circuit += projector([0,2,4])"
   ]
  },
  {
   "cell_type": "markdown",
   "id": "ef27d21f",
   "metadata": {},
   "source": [
    "Once it's done you can finally evolve your initial state $|\\Psi\\rangle$ with the projector, and obtain the final state."
   ]
  },
  {
   "cell_type": "code",
   "execution_count": 1,
   "id": "79f2cef4",
   "metadata": {},
   "outputs": [],
   "source": [
    "## your code here : do the total evolution to obtain final state"
   ]
  },
  {
   "cell_type": "markdown",
   "id": "5a46a8a4",
   "metadata": {},
   "source": [
    "What is the state of 2,4,6 now ? Can you see why is it called entanglement swapping ? Hint : you might need Statevector methods Statevector.evolve() and Statevector.to_operator()"
   ]
  },
  {
   "cell_type": "code",
   "execution_count": null,
   "id": "c4067710",
   "metadata": {},
   "outputs": [],
   "source": []
  }
 ],
 "metadata": {
  "kernelspec": {
   "display_name": "Python 3.9.7 ('base')",
   "language": "python",
   "name": "python3"
  },
  "language_info": {
   "codemirror_mode": {
    "name": "ipython",
    "version": 3
   },
   "file_extension": ".py",
   "mimetype": "text/x-python",
   "name": "python",
   "nbconvert_exporter": "python",
   "pygments_lexer": "ipython3",
   "version": "3.9.7"
  },
  "vscode": {
   "interpreter": {
    "hash": "2bc4ef9acb167b48ee60f9baadfe57024526bc96d32e36bfc4382600322ccc63"
   }
  }
 },
 "nbformat": 4,
 "nbformat_minor": 5
}
