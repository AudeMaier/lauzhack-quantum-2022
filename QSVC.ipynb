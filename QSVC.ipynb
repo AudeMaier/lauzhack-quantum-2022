{
 "cells": [
  {
   "cell_type": "markdown",
   "metadata": {},
   "source": [
    "# Quantum classifier  \n",
    "\n",
    "In this notebook, you will apply your knowledge of quantum computing to machine learning. In particular, We ask you to implement classical and quantum version of the classification models, **Support vector machines** and **Variational Quantum Classifier** respectively. In this exercises we will use `Breast cancer` [dataset](https://www.kaggle.com/datasets/merishnasuwal/breast-cancer-prediction-dataset), as it contains few features and the classification is binary. This facilitates the training of the quantum model.\n",
    "\n",
    "\n",
    "This exercise is divided in the following parts:\n",
    "1. Data processing\n",
    "2. Training and evaluating the classical model\n",
    "3. Training and evaluating the quantum model\n",
    "4. Perform dimenstion reduction"
   ]
  },
  {
   "cell_type": "markdown",
   "metadata": {},
   "source": [
    "## 1. Data processing  \n",
    "In this part you should get familiar with the dataset. To this end, you should investigate the data, perform any kind of preprocessing if you consider it necessary, and visuzalize the data."
   ]
  },
  {
   "cell_type": "code",
   "execution_count": 26,
   "metadata": {},
   "outputs": [],
   "source": [
    "import numpy as np\n",
    "from sklearn.model_selection import train_test_split\n",
    "from sklearn import svm\n",
    "from sklearn.metrics import accuracy_score"
   ]
  },
  {
   "cell_type": "code",
   "execution_count": 19,
   "metadata": {},
   "outputs": [],
   "source": [
    "# todo load the data the print the first rows\n",
    "dataset = np.loadtxt('Breast_cancer_data.csv', delimiter=',', skiprows=1)\n",
    "X = dataset[:, :-1]\n",
    "y = dataset[:, -1]"
   ]
  },
  {
   "cell_type": "code",
   "execution_count": null,
   "metadata": {},
   "outputs": [],
   "source": [
    "# todo normalize the samples\n",
    "X = (X - X.mean(0)) / X.std(0)"
   ]
  },
  {
   "cell_type": "code",
   "execution_count": 16,
   "metadata": {},
   "outputs": [
    {
     "name": "stdout",
     "output_type": "stream",
     "text": [
      "Show first 5 rows of the samples and targets:\n",
      "[[ 1.09706398 -2.07333501  1.26993369  0.9843749   1.56846633]\n",
      " [ 1.82982061 -0.35363241  1.68595471  1.90870825 -0.82696245]\n",
      " [ 1.57988811  0.45618695  1.56650313  1.55888363  0.94221044]\n",
      " [-0.76890929  0.25373211 -0.59268717 -0.76446379  3.28355348]\n",
      " [ 1.75029663 -1.15181643  1.77657315  1.82622928  0.28037183]]\n",
      "[0. 0. 0. 0. 0.]\n"
     ]
    }
   ],
   "source": [
    "# todo visualize the data\n",
    "n = 5\n",
    "print(f\"Show first {n} rows of the samples and targets:\")\n",
    "print(X[:n])\n",
    "print(y[:n])"
   ]
  },
  {
   "cell_type": "markdown",
   "metadata": {},
   "source": [
    "## 2. Train the classical model  \n",
    "We are not analyzing in depth the classical model, since teaching the classical SVM model is not the goal of this exercise. We are going to use implemented functions for splitting data, training and validating the model from  `Sklearn` library."
   ]
  },
  {
   "cell_type": "markdown",
   "metadata": {},
   "source": [
    "In order to evaulete the perfomance of the model, we ask you to split the data in training and test datasets."
   ]
  },
  {
   "cell_type": "code",
   "execution_count": 20,
   "metadata": {},
   "outputs": [],
   "source": [
    "# todo split the data in training and test\n",
    "X_train, X_test, y_train, y_test = train_test_split(X, y, test_size=0.33, random_state=42)"
   ]
  },
  {
   "cell_type": "markdown",
   "metadata": {},
   "source": [
    "We ask you to train and evaluate the classical SVM algorithm."
   ]
  },
  {
   "cell_type": "code",
   "execution_count": 23,
   "metadata": {},
   "outputs": [
    {
     "data": {
      "text/html": [
       "<style>#sk-container-id-1 {color: black;background-color: white;}#sk-container-id-1 pre{padding: 0;}#sk-container-id-1 div.sk-toggleable {background-color: white;}#sk-container-id-1 label.sk-toggleable__label {cursor: pointer;display: block;width: 100%;margin-bottom: 0;padding: 0.3em;box-sizing: border-box;text-align: center;}#sk-container-id-1 label.sk-toggleable__label-arrow:before {content: \"▸\";float: left;margin-right: 0.25em;color: #696969;}#sk-container-id-1 label.sk-toggleable__label-arrow:hover:before {color: black;}#sk-container-id-1 div.sk-estimator:hover label.sk-toggleable__label-arrow:before {color: black;}#sk-container-id-1 div.sk-toggleable__content {max-height: 0;max-width: 0;overflow: hidden;text-align: left;background-color: #f0f8ff;}#sk-container-id-1 div.sk-toggleable__content pre {margin: 0.2em;color: black;border-radius: 0.25em;background-color: #f0f8ff;}#sk-container-id-1 input.sk-toggleable__control:checked~div.sk-toggleable__content {max-height: 200px;max-width: 100%;overflow: auto;}#sk-container-id-1 input.sk-toggleable__control:checked~label.sk-toggleable__label-arrow:before {content: \"▾\";}#sk-container-id-1 div.sk-estimator input.sk-toggleable__control:checked~label.sk-toggleable__label {background-color: #d4ebff;}#sk-container-id-1 div.sk-label input.sk-toggleable__control:checked~label.sk-toggleable__label {background-color: #d4ebff;}#sk-container-id-1 input.sk-hidden--visually {border: 0;clip: rect(1px 1px 1px 1px);clip: rect(1px, 1px, 1px, 1px);height: 1px;margin: -1px;overflow: hidden;padding: 0;position: absolute;width: 1px;}#sk-container-id-1 div.sk-estimator {font-family: monospace;background-color: #f0f8ff;border: 1px dotted black;border-radius: 0.25em;box-sizing: border-box;margin-bottom: 0.5em;}#sk-container-id-1 div.sk-estimator:hover {background-color: #d4ebff;}#sk-container-id-1 div.sk-parallel-item::after {content: \"\";width: 100%;border-bottom: 1px solid gray;flex-grow: 1;}#sk-container-id-1 div.sk-label:hover label.sk-toggleable__label {background-color: #d4ebff;}#sk-container-id-1 div.sk-serial::before {content: \"\";position: absolute;border-left: 1px solid gray;box-sizing: border-box;top: 0;bottom: 0;left: 50%;z-index: 0;}#sk-container-id-1 div.sk-serial {display: flex;flex-direction: column;align-items: center;background-color: white;padding-right: 0.2em;padding-left: 0.2em;position: relative;}#sk-container-id-1 div.sk-item {position: relative;z-index: 1;}#sk-container-id-1 div.sk-parallel {display: flex;align-items: stretch;justify-content: center;background-color: white;position: relative;}#sk-container-id-1 div.sk-item::before, #sk-container-id-1 div.sk-parallel-item::before {content: \"\";position: absolute;border-left: 1px solid gray;box-sizing: border-box;top: 0;bottom: 0;left: 50%;z-index: -1;}#sk-container-id-1 div.sk-parallel-item {display: flex;flex-direction: column;z-index: 1;position: relative;background-color: white;}#sk-container-id-1 div.sk-parallel-item:first-child::after {align-self: flex-end;width: 50%;}#sk-container-id-1 div.sk-parallel-item:last-child::after {align-self: flex-start;width: 50%;}#sk-container-id-1 div.sk-parallel-item:only-child::after {width: 0;}#sk-container-id-1 div.sk-dashed-wrapped {border: 1px dashed gray;margin: 0 0.4em 0.5em 0.4em;box-sizing: border-box;padding-bottom: 0.4em;background-color: white;}#sk-container-id-1 div.sk-label label {font-family: monospace;font-weight: bold;display: inline-block;line-height: 1.2em;}#sk-container-id-1 div.sk-label-container {text-align: center;}#sk-container-id-1 div.sk-container {/* jupyter's `normalize.less` sets `[hidden] { display: none; }` but bootstrap.min.css set `[hidden] { display: none !important; }` so we also need the `!important` here to be able to override the default hidden behavior on the sphinx rendered scikit-learn.org. See: https://github.com/scikit-learn/scikit-learn/issues/21755 */display: inline-block !important;position: relative;}#sk-container-id-1 div.sk-text-repr-fallback {display: none;}</style><div id=\"sk-container-id-1\" class=\"sk-top-container\"><div class=\"sk-text-repr-fallback\"><pre>LinearSVC(dual=False)</pre><b>In a Jupyter environment, please rerun this cell to show the HTML representation or trust the notebook. <br />On GitHub, the HTML representation is unable to render, please try loading this page with nbviewer.org.</b></div><div class=\"sk-container\" hidden><div class=\"sk-item\"><div class=\"sk-estimator sk-toggleable\"><input class=\"sk-toggleable__control sk-hidden--visually\" id=\"sk-estimator-id-1\" type=\"checkbox\" checked><label for=\"sk-estimator-id-1\" class=\"sk-toggleable__label sk-toggleable__label-arrow\">LinearSVC</label><div class=\"sk-toggleable__content\"><pre>LinearSVC(dual=False)</pre></div></div></div></div></div>"
      ],
      "text/plain": [
       "LinearSVC(dual=False)"
      ]
     },
     "execution_count": 23,
     "metadata": {},
     "output_type": "execute_result"
    }
   ],
   "source": [
    "# todo train the model\n",
    "model = svm.LinearSVC(dual=False)\n",
    "model.fit(X_train, y_train)"
   ]
  },
  {
   "cell_type": "code",
   "execution_count": 27,
   "metadata": {},
   "outputs": [
    {
     "name": "stdout",
     "output_type": "stream",
     "text": [
      "0.9361702127659575\n"
     ]
    }
   ],
   "source": [
    "# todo evaluate the model\n",
    "y_pred = model.predict(X_test)\n",
    "print(accuracy_score(y_test, y_pred))"
   ]
  },
  {
   "cell_type": "markdown",
   "metadata": {},
   "source": [
    "## 3. Training a Quantum Machine Learning Model\n",
    "\n",
    "As an example of a quantum model, we'll train a variational quantum classifier (VQC). The VQC is the simplest classifier available in Qiskit Machine Learning and is a good starting point for newcomers to quantum machine learning who have a background in classical machine learning.\n",
    "\n",
    "But before we train a model, let's examine what comprises the `VQC` class. Two of its central elements are the **feature map** and **ansatz**. What these are will now be explained.\n",
    "\n",
    "Our data is classical, meaning it consists of a set of bits, not qubits. We need a way to encode the data as qubits. This process is crucial if we want to obtain an effective quantum model. We usually refer to this mapping as data encoding, data embedding, or data loading and this is the role of the feature map. While feature mapping is a common ML mechanism, this process of loading data into quantum states does not appear in classical machine learning as that only operates in the classical world.\n",
    "\n",
    "Once the data is loaded, we must immediately apply a parameterized quantum circuit. This circuit is a direct analog to the layers in classical neural networks. It has a set of tunable parameters or weights. The weights are optimized such that they minimize an objective function. This objective function characterizes the distance between the predictions and known labeled data. A parameterized quantum circuit is also called a parameterized trial state, variational form, or ansatz. Perhaps, the latter is the most widely used term.\n",
    "\n",
    "For more information, we direct the reader to the [Quantum Machine Learning Course](https://learn.qiskit.org/course/machine-learning)."
   ]
  },
  {
   "cell_type": "markdown",
   "metadata": {},
   "source": [
    "Many classical machine learning methods re-express their input data in a different space to make it easier to work with, or because the new space may have some convenient properties. A common example is support vector machines, which classify data using a linear hyperplane. A linear hyperplane works well when the data is already linearly separable in the original space, however this is unlikely to be true for many data sets. To work around this it may be possible to transform the data into a new space where it is linear by way of a feature map.\n",
    "\n",
    "\n",
    "More formally, let $X$ be a set of input data. A feature map $\\phi$ is a function that acts as $\\phi:X \\rightarrow F$ where $F$ is the feature space. The outputs of the map on the individual data points, $\\phi(𝑥)$ for all $x \\in X$, are called feature vectors.\n",
    "\n",
    "![feature_map_svm.svg](images/feature_map_svm.svg)\n",
    "\n",
    "\n",
    "In general $F$ is just a vector space — a quantum feature map $\\phi:X \\rightarrow F$ is a feature map where the vector space $F$ is a Hilbert space and the feature vectors are quantum states. The map transforms $𝑥 \\rightarrow |\\phi(𝑥) \\rangle$ by way of a unitary transformation $U_{\\phi(𝑥}$, which is typically a variational circuit whose parameters depend on the input data.\n",
    "\n",
    "![quantum_feature_map.svg](images/quantum_feature_map.svg)"
   ]
  },
  {
   "cell_type": "markdown",
   "metadata": {},
   "source": [
    "First, we ask you to implement feature map: **Second-order Pauli-Z feature map**. The latest applies twice the **Pauli-Z** gate. The formula of $\\mathscr{U}_{\\phi(x)}$ defines the actual feature map, where $H$ is the hadamard gate. We consider $|S| \\leq 2$. The $P_i$ is a Pauli gate defined as $P_i \\in \\{I, X, Y, Z\\}$.\n",
    "\n",
    "\n",
    "# $$\n",
    "\\mathscr{U}_{\\phi(x)} = U_{\\phi(x)}H^{\\otimes n} U_{\\phi(x)}H^{\\otimes n} \\\\\n",
    "\\textrm{where} \\\\\n",
    "$$\n",
    "\n",
    "<div>\n",
    "    <img src=\"images/AU.png\" width=\"400\"/>\n",
    "    <img src=\"images/phase.png\" width=\"450\"/>\n",
    "</div>\n",
    "\n",
    "\n",
    "You can experiment with original implementation of `ZZFeatureMap` to get more idea of the circuit. \n",
    "\n",
    "*Hint*: check `qiskit.circuit.ParameterVector` to create parametrised input"
   ]
  },
  {
   "cell_type": "code",
   "execution_count": 171,
   "metadata": {},
   "outputs": [
    {
     "data": {
      "image/png": "[encoded data removed]",
      "text/plain": [
       "<Figure size 2133.4x204.68 with 1 Axes>"
      ]
     },
     "execution_count": 171,
     "metadata": {},
     "output_type": "execute_result"
    }
   ],
   "source": [
    "from qiskit.circuit.library import ZZFeatureMap\n",
    "\n",
    "# experiment with values\n",
    "number_features = 3\n",
    "repetitions = 2\n",
    "feature_map = ZZFeatureMap(feature_dimension=number_features, reps=repetitions)\n",
    "feature_map.decompose().draw(output=\"mpl\", fold=40) # decrease the value to zoom inro circuit"
   ]
  },
  {
   "cell_type": "markdown",
   "metadata": {},
   "source": [
    "If you look closely at the feature map diagram, you will notice parameters `x[0], ..., x[2]`. These are placeholders for the features."
   ]
  },
  {
   "cell_type": "code",
   "execution_count": 69,
   "metadata": {},
   "outputs": [],
   "source": [
    "# TODO: implement quantum feature map and plot the circuit\n",
    "\n",
    "def ZZFeatureMap1(feature_dimension, reps=1):\n",
    "    \"\"\"\n",
    "    Produces the Pauli-Z Expansion circuit.\n",
    "    \n",
    "    feature_dimension - int, number of qubits\n",
    "    reps - int, number of repetitions of circuits, 1 by deault\n",
    "    \n",
    "    returns - quantum circuit, that representing ZZfeature map.\n",
    "    \"\"\"\n",
    "    pass"
   ]
  },
  {
   "cell_type": "markdown",
   "metadata": {},
   "source": [
    "Now we create and plot our ansatz. The latest is a parameterized circuit, that can be seen as function $\\tilde{f}$ that we use to approximate unknown true function $f$. There are several built-in implementation of variuos ansatz, however we suggest to use `qiskit.circuit.library.RealAmplitudes`.  \n",
    "Below there is an example of an ansatz. Feel free to experiment with it. We ask you to implement the circuit as `RealAmplitudes`."
   ]
  },
  {
   "cell_type": "code",
   "execution_count": 141,
   "metadata": {},
   "outputs": [
    {
     "data": {
      "image/png": "[encoded data removed]",
      "text/plain": [
       "<Figure size 507.997x204.68 with 1 Axes>"
      ]
     },
     "execution_count": 141,
     "metadata": {},
     "output_type": "execute_result"
    }
   ],
   "source": [
    "from qiskit.circuit.library import RealAmplitudes\n",
    "\n",
    "ansatz = RealAmplitudes(num_qubits=number_features, reps=repetitions)\n",
    "ansatz.decompose().draw(output=\"mpl\", fold=20)"
   ]
  },
  {
   "cell_type": "markdown",
   "metadata": {},
   "source": [
    "This circuit has 16 parameters named `θ[0], ..., θ[8]`. These are the trainable weights of the classifier."
   ]
  },
  {
   "cell_type": "code",
   "execution_count": 180,
   "metadata": {},
   "outputs": [],
   "source": [
    "# TODO: implement ansatz and plot the circuit\n",
    "\n",
    "def ansatz(num_qubits, reps=1):\n",
    "    \"\"\"\n",
    "    Produces the real-amplitudes 2-local circuit.\n",
    "    \n",
    "    num_qubits - int, number of qubits\n",
    "    reps - int, number of repetitions of circuits, 1 by deault\n",
    "    \n",
    "    returns - quantum circuit, that representing real-amplitudes 2-local circuit\n",
    "    \"\"\"\n",
    "    pass"
   ]
  },
  {
   "cell_type": "markdown",
   "metadata": {},
   "source": [
    "\n",
    "We then choose an optimization algorithm to use in the training process. This step is similar to what you may find in classical deep learning frameworks. To make the training process faster, we choose a gradient-free optimizer. You may explore other optimizers available in Qiskit."
   ]
  },
  {
   "cell_type": "code",
   "execution_count": 2,
   "metadata": {},
   "outputs": [],
   "source": [
    "# todo: define optimizer\n",
    "# optimizer = "
   ]
  },
  {
   "cell_type": "markdown",
   "metadata": {},
   "source": [
    "In the next step, we define where to train our classifier. We can train on a simulator or a real quantum computer. Here, we will use a simulator. We create an instance of the `Sampler` primitive. This is the reference implementation that is statevector based. Using qiskit runtime services you can create a sampler that is backed by a quantum computer. The `Sampler` is an estimator of the $\\theta$ in our classification system."
   ]
  },
  {
   "cell_type": "code",
   "execution_count": 144,
   "metadata": {},
   "outputs": [],
   "source": [
    "from qiskit.primitives import Sampler\n",
    "\n",
    "sampler = Sampler()"
   ]
  },
  {
   "cell_type": "markdown",
   "metadata": {},
   "source": [
    "We will add a callback function called `callback_graph`. `VQC` will call this function for each evaluation of the objective function with two parameters: the current weights and the value of the objective function at those weights. Our callback will append the value of the objective function to an array so we can plot the iteration versus the objective function value. The callback will update the plot at each iteration. Note that you can do whatever you want inside a callback function, so long as it has the two-parameter signature we mentioned above."
   ]
  },
  {
   "cell_type": "code",
   "execution_count": 145,
   "metadata": {},
   "outputs": [],
   "source": [
    "from matplotlib import pyplot as plt\n",
    "from IPython.display import clear_output\n",
    "\n",
    "objective_func_vals = []\n",
    "plt.rcParams[\"figure.figsize\"] = (12, 6)\n",
    "\n",
    "\n",
    "def callback_graph(weights, obj_func_eval):\n",
    "    clear_output(wait=True)\n",
    "    objective_func_vals.append(obj_func_eval)\n",
    "    plt.title(\"Objective function value against iteration\")\n",
    "    plt.xlabel(\"Iteration\")\n",
    "    plt.ylabel(\"Objective function value\")\n",
    "    plt.plot(range(len(objective_func_vals)), objective_func_vals)\n",
    "    plt.show()"
   ]
  },
  {
   "cell_type": "markdown",
   "metadata": {},
   "source": [
    "Now we are ready to construct the classifier and fit it. \n",
    "\n",
    "`VQC` stands for \"variational quantum classifier.\" It takes a feature map and an ansatz and constructs a quantum neural network automatically. In the simplest case it is enough to pass the number of qubits and a quantum instance to construct a valid classifier. You may omit the `sampler` parameter, in this case a `Sampler` instance will be created for you in the way we created it earlier. We created it manually for illustrative purposes only.\n",
    "\n",
    "Training may take some time, please be patient."
   ]
  },
  {
   "cell_type": "code",
   "execution_count": 182,
   "metadata": {},
   "outputs": [],
   "source": [
    "# todo fit and evaluate the quantum model"
   ]
  },
  {
   "attachments": {},
   "cell_type": "markdown",
   "metadata": {},
   "source": [
    "In this implementation we considered the most widely used data encoding $\\phi(x)$ defined above. However, there exists several other encodings proposed by *Havlíček et.al.*. We ask you to implement `ZZ-feature map` with new encodings. We will use new data encoding for comparison later, because the model using all features is slow to train.\n",
    "<div>\n",
    "    <img src=\"images/econdings.png\" width=\"450\"/>\n",
    "</div>\n"
   ]
  },
  {
   "cell_type": "code",
   "execution_count": 176,
   "metadata": {},
   "outputs": [],
   "source": [
    "# todo implement feature maps with different data encodings"
   ]
  },
  {
   "cell_type": "markdown",
   "metadata": {},
   "source": [
    "## 4. Feature reduction\n",
    "\n",
    "Often mainting all the features is not effecient. You can apply any feature reduction method, we suggest to use `PCA`. Perform dimension reduction to 3 features and plot the data."
   ]
  },
  {
   "cell_type": "code",
   "execution_count": 174,
   "metadata": {},
   "outputs": [],
   "source": [
    "# todo perform dimensionality reduction and visualise data with less features "
   ]
  },
  {
   "cell_type": "markdown",
   "metadata": {},
   "source": [
    "As usual, we split the dataset first, then fit a classical model."
   ]
  },
  {
   "cell_type": "code",
   "execution_count": 175,
   "metadata": {},
   "outputs": [],
   "source": [
    "# todo split new data, fit and evaluate classical model"
   ]
  },
  {
   "cell_type": "markdown",
   "metadata": {},
   "source": [
    "The results may be sligthly worse. Now let's see how the quntum model performs. You need to redefine the feature map and the ansatz, since the number of qubits have changed. There are several ansatz implementation we suggest you to investigate to find a more optimal one. You can use `qiskit` implementation."
   ]
  },
  {
   "cell_type": "code",
   "execution_count": 177,
   "metadata": {},
   "outputs": [],
   "source": [
    "# define new feature map and ansatz"
   ]
  },
  {
   "cell_type": "code",
   "execution_count": null,
   "metadata": {},
   "outputs": [],
   "source": [
    "# fit and evaluate quantum model"
   ]
  },
  {
   "cell_type": "markdown",
   "metadata": {},
   "source": [
    "The quntum model may perform even better with few feature. Selecting correct feature map and the ansatz is crutial to get good performance. We ask you to experiment with different feature map settings and different ansatz. Try to understand how to do an effecient settings. The model with less features is faster to train, hence we ask you to use reduced dataset. Use differernt data encodings that you have implemented before to test if there any difference, if so which one is the best.\n",
    "\n",
    "Training may take some time. We suggest to run the model with different setups on several machines to save time."
   ]
  },
  {
   "cell_type": "code",
   "execution_count": 183,
   "metadata": {},
   "outputs": [],
   "source": [
    "# todo evaluate model on different data encoding"
   ]
  },
  {
   "cell_type": "code",
   "execution_count": 184,
   "metadata": {},
   "outputs": [],
   "source": [
    "# todo experiment with different feature map and ansatz settings"
   ]
  }
 ],
 "metadata": {
  "kernelspec": {
   "display_name": "Python 3.10.8 ('lauzhack')",
   "language": "python",
   "name": "python3"
  },
  "language_info": {
   "codemirror_mode": {
    "name": "ipython",
    "version": 3
   },
   "file_extension": ".py",
   "mimetype": "text/x-python",
   "name": "python",
   "nbconvert_exporter": "python",
   "pygments_lexer": "ipython3",
   "version": "3.10.8"
  },
  "vscode": {
   "interpreter": {
    "hash": "fe2152665fb28f2ebd9634426eda6c779fda420c35631e37a4368520f493a957"
   }
  }
 },
 "nbformat": 4,
 "nbformat_minor": 4
}
